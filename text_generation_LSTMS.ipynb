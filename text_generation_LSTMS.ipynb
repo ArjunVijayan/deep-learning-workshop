{
  "nbformat": 4,
  "nbformat_minor": 0,
  "metadata": {
    "colab": {
      "provenance": [],
      "gpuType": "T4"
    },
    "kernelspec": {
      "name": "python3",
      "display_name": "Python 3"
    },
    "language_info": {
      "name": "python"
    },
    "accelerator": "GPU"
  },
  "cells": [
    {
      "cell_type": "code",
      "execution_count": 84,
      "metadata": {
        "id": "Xwrag7T5yncf"
      },
      "outputs": [],
      "source": [
        "def read_file(filepath):\n",
        "  with open(filepath) as f:\n",
        "    str_text = f.read()\n",
        "\n",
        "  return str_text"
      ]
    },
    {
      "cell_type": "code",
      "source": [
        "txt_file = read_file(\"moby_dick_four_chapters.txt\")\n",
        "\n",
        "import tensorflow as tf\n",
        "print(\"Num GPUs Available: \", len(tf.config.list_physical_devices('GPU')))"
      ],
      "metadata": {
        "colab": {
          "base_uri": "https://localhost:8080/"
        },
        "id": "nd0ryXp21oBZ",
        "outputId": "de376e97-5c6a-481a-c21d-fd9a6a26a5cd"
      },
      "execution_count": 85,
      "outputs": [
        {
          "output_type": "stream",
          "name": "stdout",
          "text": [
            "Num GPUs Available:  1\n"
          ]
        }
      ]
    },
    {
      "cell_type": "code",
      "source": [
        "# tokenization\n",
        "from spacy.tokenizer import Tokenizer\n",
        "from spacy.lang.en import  English\n",
        "\n",
        "nlp = English()\n",
        "\n",
        "# Create a blank Tokenizer with just the English vocab\n",
        "tokenizer = Tokenizer(nlp.vocab)"
      ],
      "metadata": {
        "id": "s5hcAvCA2oVU"
      },
      "execution_count": 86,
      "outputs": []
    },
    {
      "cell_type": "code",
      "source": [
        "nlp.max_length = 1235169"
      ],
      "metadata": {
        "id": "GM52HPPe3R_0"
      },
      "execution_count": 87,
      "outputs": []
    },
    {
      "cell_type": "code",
      "source": [
        "# txt_file = txt_file[:1000]"
      ],
      "metadata": {
        "id": "MebXhVp33y1r"
      },
      "execution_count": 88,
      "outputs": []
    },
    {
      "cell_type": "code",
      "source": [
        "# seperate punctuations\n",
        "\n",
        "def seperate_punc(doc_text):\n",
        "  return [token.text.lower() for token in nlp(doc_text) if token.text not in ',./-_+=-_!?\\n \\n\\n \\t, @#$%()%^&:;']"
      ],
      "metadata": {
        "id": "m7I0TyoD31Dt"
      },
      "execution_count": 89,
      "outputs": []
    },
    {
      "cell_type": "code",
      "source": [
        "tokens = seperate_punc(txt_file)"
      ],
      "metadata": {
        "id": "5ptFPTmA4KAk"
      },
      "execution_count": 90,
      "outputs": []
    },
    {
      "cell_type": "code",
      "source": [
        "tokens[-10:]"
      ],
      "metadata": {
        "colab": {
          "base_uri": "https://localhost:8080/"
        },
        "id": "RE0PJyzi4qmz",
        "outputId": "e196c544-6643-4b75-a066-ccee75d114ff"
      },
      "execution_count": 91,
      "outputs": [
        {
          "output_type": "execute_result",
          "data": {
            "text/plain": [
              "['jacket',\n",
              " 'and',\n",
              " 'sporting',\n",
              " 'his',\n",
              " 'harpoon',\n",
              " 'like',\n",
              " 'a',\n",
              " 'marshal',\n",
              " \"'s\",\n",
              " 'baton']"
            ]
          },
          "metadata": {},
          "execution_count": 91
        }
      ]
    },
    {
      "cell_type": "code",
      "source": [
        "# 25 words ------> network predict 26th word"
      ],
      "metadata": {
        "id": "5_xWs0Io4tV4"
      },
      "execution_count": 92,
      "outputs": []
    },
    {
      "cell_type": "code",
      "source": [
        "train_len = 25 + 1\n",
        "\n",
        "text_sequences = []\n",
        "\n",
        "for i in range(train_len, len(tokens)):\n",
        "  seq = tokens[i - train_len: i]\n",
        "  text_sequences.append(seq)"
      ],
      "metadata": {
        "id": "7oTOYvYR5H4B"
      },
      "execution_count": 93,
      "outputs": []
    },
    {
      "cell_type": "code",
      "source": [
        "' '.join(text_sequences[0])"
      ],
      "metadata": {
        "colab": {
          "base_uri": "https://localhost:8080/",
          "height": 53
        },
        "id": "NONfVXQ-TyYV",
        "outputId": "2672f3ac-4177-43eb-f13e-657463e1f9b5"
      },
      "execution_count": 94,
      "outputs": [
        {
          "output_type": "execute_result",
          "data": {
            "text/plain": [
              "'call me ishmael some years ago -- never mind how long precisely -- having little or no money in my purse and nothing particular to interest'"
            ],
            "application/vnd.google.colaboratory.intrinsic+json": {
              "type": "string"
            }
          },
          "metadata": {},
          "execution_count": 94
        }
      ]
    },
    {
      "cell_type": "code",
      "source": [
        "' '.join(text_sequences[1])"
      ],
      "metadata": {
        "colab": {
          "base_uri": "https://localhost:8080/",
          "height": 53
        },
        "id": "FM3zna3FT0HU",
        "outputId": "d845a84e-8704-47e8-e182-011306b5e8a0"
      },
      "execution_count": 95,
      "outputs": [
        {
          "output_type": "execute_result",
          "data": {
            "text/plain": [
              "'me ishmael some years ago -- never mind how long precisely -- having little or no money in my purse and nothing particular to interest me'"
            ],
            "application/vnd.google.colaboratory.intrinsic+json": {
              "type": "string"
            }
          },
          "metadata": {},
          "execution_count": 95
        }
      ]
    },
    {
      "cell_type": "code",
      "source": [
        "len(text_sequences[0])"
      ],
      "metadata": {
        "colab": {
          "base_uri": "https://localhost:8080/"
        },
        "id": "bMT8nwGlUHdB",
        "outputId": "3815e593-6211-4db1-f29c-169a5449f839"
      },
      "execution_count": 96,
      "outputs": [
        {
          "output_type": "execute_result",
          "data": {
            "text/plain": [
              "26"
            ]
          },
          "metadata": {},
          "execution_count": 96
        }
      ]
    },
    {
      "cell_type": "code",
      "source": [
        "from tensorflow.keras.preprocessing.text import Tokenizer\n",
        "tok = Tokenizer()"
      ],
      "metadata": {
        "id": "Zxyk17pxURZq"
      },
      "execution_count": 97,
      "outputs": []
    },
    {
      "cell_type": "code",
      "source": [
        "tok.fit_on_texts(text_sequences)\n",
        "sequences = tok.texts_to_sequences(text_sequences)"
      ],
      "metadata": {
        "id": "1RMuY8sOUo6Y"
      },
      "execution_count": 98,
      "outputs": []
    },
    {
      "cell_type": "code",
      "source": [
        "sequences[:2]"
      ],
      "metadata": {
        "colab": {
          "base_uri": "https://localhost:8080/"
        },
        "id": "R1_jLbJ6VOw3",
        "outputId": "c679fb58-4250-4852-c475-33536216d3f0"
      },
      "execution_count": 99,
      "outputs": [
        {
          "output_type": "execute_result",
          "data": {
            "text/plain": [
              "[[959,\n",
              "  15,\n",
              "  265,\n",
              "  53,\n",
              "  263,\n",
              "  410,\n",
              "  18,\n",
              "  89,\n",
              "  221,\n",
              "  131,\n",
              "  113,\n",
              "  957,\n",
              "  18,\n",
              "  262,\n",
              "  52,\n",
              "  45,\n",
              "  40,\n",
              "  316,\n",
              "  7,\n",
              "  25,\n",
              "  548,\n",
              "  3,\n",
              "  152,\n",
              "  261,\n",
              "  6,\n",
              "  960],\n",
              " [15,\n",
              "  265,\n",
              "  53,\n",
              "  263,\n",
              "  410,\n",
              "  18,\n",
              "  89,\n",
              "  221,\n",
              "  131,\n",
              "  113,\n",
              "  957,\n",
              "  18,\n",
              "  262,\n",
              "  52,\n",
              "  45,\n",
              "  40,\n",
              "  316,\n",
              "  7,\n",
              "  25,\n",
              "  548,\n",
              "  3,\n",
              "  152,\n",
              "  261,\n",
              "  6,\n",
              "  960,\n",
              "  15]]"
            ]
          },
          "metadata": {},
          "execution_count": 99
        }
      ]
    },
    {
      "cell_type": "code",
      "source": [
        "print(tok.index_word)"
      ],
      "metadata": {
        "colab": {
          "base_uri": "https://localhost:8080/"
        },
        "id": "EY7569uvVXyu",
        "outputId": "5e6ee629-9cc4-426a-f8e2-e1b1badbbd0b"
      },
      "execution_count": 100,
      "outputs": [
        {
          "output_type": "stream",
          "name": "stdout",
          "text": [
            "{1: 'the', 2: 'a', 3: 'and', 4: 'of', 5: 'i', 6: 'to', 7: 'in', 8: 'it', 9: 'that', 10: '\"', 11: 'he', 12: 'his', 13: 'was', 14: 'but', 15: 'me', 16: 'with', 17: 'as', 18: '--', 19: 'at', 20: 'this', 21: 'you', 22: 'is', 23: 'all', 24: 'for', 25: 'my', 26: 'on', 27: 'be', 28: \"'s\", 29: 'not', 30: 'from', 31: 'there', 32: 'one', 33: 'up', 34: 'what', 35: 'him', 36: 'so', 37: 'bed', 38: 'now', 39: 'about', 40: 'no', 41: 'into', 42: 'by', 43: 'were', 44: 'out', 45: 'or', 46: 'harpooneer', 47: 'had', 48: 'then', 49: 'have', 50: 'an', 51: 'upon', 52: 'little', 53: 'some', 54: 'old', 55: 'like', 56: 'if', 57: 'they', 58: 'would', 59: 'do', 60: 'over', 61: 'landlord', 62: 'thought', 63: 'room', 64: 'when', 65: 'could', 66: \"n't\", 67: 'night', 68: 'here', 69: 'head', 70: 'such', 71: 'which', 72: 'man', 73: 'did', 74: 'sea', 75: 'time', 76: 'other', 77: 'very', 78: 'go', 79: 'these', 80: 'more', 81: 'though', 82: 'first', 83: 'sort', 84: 'said', 85: 'last', 86: 'down', 87: 'most', 88: 'been', 89: 'never', 90: 'your', 91: 'them', 92: 'must', 93: 'tell', 94: 'much', 95: 'good', 96: 'see', 97: 'off', 98: 'myself', 99: 'are', 100: 'yet', 101: 'sleep', 102: 'who', 103: 'seemed', 104: 'light', 105: 'way', 106: 'their', 107: 'just', 108: 'being', 109: 'than', 110: 'place', 111: 'queequeg', 112: 'great', 113: 'long', 114: 'before', 115: 'get', 116: 'round', 117: 'where', 118: 'still', 119: 'any', 120: 'too', 121: 'only', 122: 'door', 123: 'can', 124: 'himself', 125: 'heads', 126: 'come', 127: 'ever', 128: 'two', 129: 'enough', 130: 'made', 131: 'how', 132: 'hand', 133: 'same', 134: 'looking', 135: 'something', 136: 'may', 137: \"'\", 138: 'almost', 139: 'say', 140: 'should', 141: 'side', 142: 'why', 143: 'own', 144: 'we', 145: 'new', 146: 'again', 147: 'came', 148: 'arm', 149: 'house', 150: 'away', 151: 'might', 152: 'nothing', 153: 'take', 154: 'towards', 155: 'will', 156: 'under', 157: 'going', 158: 'make', 159: 'whale', 160: 'stood', 161: 'boots', 162: 'ye', 163: 'back', 164: \"'ll\", 165: 'tomahawk', 166: 'part', 167: 'world', 168: 'soon', 169: 'water', 170: 'against', 171: 'those', 172: 'between', 173: 'after', 174: 'whaling', 175: 'lay', 176: 'took', 177: 'half', 178: 'began', 179: 'face', 180: 'streets', 181: 'land', 182: 'better', 183: 'once', 184: 'voyage', 185: 'give', 186: 'rather', 187: 'well', 188: 'however', 189: 'else', 190: 'heard', 191: 'put', 192: 'stop', 193: 'dark', 194: 'went', 195: 'black', 196: 'window', 197: 'cannibal', 198: 'fire', 199: 'every', 200: 'ship', 201: 'stand', 202: 'strange', 203: 'without', 204: 'feet', 205: 'whether', 206: 'because', 207: 'eyes', 208: 'think', 209: 'thinks', 210: 'idea', 211: 'bag', 212: 'nantucket', 213: 'late', 214: 'cold', 215: 'our', 216: 'found', 217: 'full', 218: 'morning', 219: 'sleeping', 220: 'got', 221: 'mind', 222: 'her', 223: 'right', 224: 'its', 225: 'look', 226: 'town', 227: 'south', 228: 'does', 229: 'let', 230: 'set', 231: 'yourself', 232: 'image', 233: 'saw', 234: 'am', 235: 'besides', 236: 'sailor', 237: 'seas', 238: 'rolled', 239: 'till', 240: 'day', 241: 'sign', 242: 'looked', 243: 'hard', 244: 'moment', 245: 'corner', 246: 'entry', 247: 'four', 248: 'wall', 249: 'savage', 250: 'table', 251: 'indeed', 252: 'bench', 253: 'chest', 254: 'while', 255: 'stranger', 256: 'possible', 257: 'feeling', 258: 'floor', 259: 'squares', 260: 'hat', 261: 'particular', 262: 'having', 263: 'years', 264: 'harpoon', 265: 'ishmael', 266: 'whenever', 267: 'mouth', 268: 'high', 269: 'knew', 270: 'men', 271: 'hours', 272: 'green', 273: 'bit', 274: 'within', 275: 'picture', 276: 'told', 277: 'story', 278: 'mean', 279: 'speak', 280: 'order', 281: 'making', 282: 'even', 283: 'perhaps', 284: 'things', 285: 'answer', 286: 'parts', 287: 'wild', 288: 'reason', 289: 'young', 290: 'craft', 291: 'business', 292: 'dead', 293: 'another', 294: 'middle', 295: 'sure', 296: 'candle', 297: 'presently', 298: 'low', 299: 'turned', 300: 'teeth', 301: 'dim', 302: 'euroclydon', 303: 'kept', 304: 'glass', 305: 'afterwards', 306: 'large', 307: 'three', 308: 'telling', 309: 'getting', 310: 'small', 311: 'next', 312: 'seeing', 313: 'sell', 314: 'felt', 315: 'sun', 316: 'money', 317: 'sail', 318: 'coffin', 319: 'especially', 320: 'street', 321: 'city', 322: 'few', 323: 'previous', 324: 'sight', 325: 'days', 326: 'straight', 327: 'nigh', 328: 'legs', 329: 'try', 330: 'yes', 331: 'unless', 332: 'poor', 333: 'coat', 334: 'passenger', 335: 'taking', 336: 'true', 337: 'thing', 338: 'ai', 339: 'always', 340: 'us', 341: 'really', 342: 'marvellous', 343: 'heaven', 344: 'air', 345: 'far', 346: 'second', 347: 'many', 348: 'has', 349: 'unaccountable', 350: 'grand', 351: 'jolly', 352: 'open', 353: 'shirt', 354: 'cape', 355: 'bedford', 356: 'fine', 357: 'further', 358: 'ice', 359: 'frost', 360: 'foot', 361: 'wide', 362: 'white', 363: 'tall', 364: 'i.', 365: 'wooden', 366: 'worse', 367: 'death', 368: 'mine', 369: 'lazarus', 370: 'keep', 371: 'along', 372: 'hung', 373: 'throwing', 374: 'centre', 375: 'rest', 376: 'fact', 377: 'hair', 378: 'broken', 379: 'kill', 380: 'through', 381: 'chimney', 382: 'fancy', 383: 'bar', 384: 'trying', 385: 'dumplings', 386: 'heavens', 387: 'manner', 388: 'devil', 389: 'together', 390: 'seen', 391: 'deal', 392: 'know', 393: 'skin', 394: 'ca', 395: 'shavings', 396: 'peddling', 397: 'sunday', 398: 'counterpane', 399: 'mat', 400: 'christian', 401: 'commenced', 402: 'thinking', 403: 'similar', 404: 'afraid', 405: 'length', 406: 'idol', 407: 'e', 408: 'sabbee', 409: 'waking', 410: 'ago', 411: 'find', 412: 'damp', 413: 'soul', 414: 'strong', 415: 'account', 416: 'sword', 417: 'quietly', 418: 'degree', 419: 'left', 420: 'around', 421: 'fixed', 422: 'ships', 423: 'miles', 424: 'country', 425: 'stream', 426: 'lead', 427: 'american', 428: 'artist', 429: 'each', 430: 'goes', 431: 'deep', 432: 'distant', 433: 'winds', 434: 'blue', 435: 'among', 436: 'suddenly', 437: 'feel', 438: 'meaning', 439: 'phantom', 440: 'life', 441: 'passengers', 442: 'nor', 443: 'kind', 444: 'quite', 445: 'care', 446: 'board', 447: 'somehow', 448: 'broiled', 449: 'mast', 450: 'sense', 451: 'knowing', 452: 'either', 453: 'passed', 454: 'hands', 455: 'paying', 456: 'pay', 457: 'penny', 458: 'sailors', 459: 'exactly', 460: 'short', 461: 'easy', 462: 'portentous', 463: 'island', 464: 'nameless', 465: 'sounds', 466: 'since', 467: 'snow', 468: 'saturday', 469: 'matter', 470: 'red', 471: 'partly', 472: 'ere', 473: 'became', 474: 'meanwhile', 475: 'pocket', 476: 'darkness', 477: 'fish', 478: 'inn', 479: 'watch', 480: 'broad', 481: 'entering', 482: 'ha', 483: 'ashes', 484: 'opened', 485: 'spouter', 486: 'name', 487: 'suppose', 488: 'quiet', 489: 'best', 490: 'tempestuous', 491: 'says', 492: 'thou', 493: 'both', 494: 'occurred', 495: 'dives', 496: 'holding', 497: 'frozen', 498: 'altogether', 499: 'plain', 500: 'whom', 501: 'clean', 502: 'human', 503: 'entered', 504: 'wrinkled', 505: 'shelf', 506: 'jonah', 507: 'blanket', 508: \"goin'\", 509: 'bitter', 510: 'supper', 511: 'sat', 512: 'settle', 513: 'chap', 514: 'help', 515: 'spend', 516: 'landed', 517: 'standing', 518: 'held', 519: 'somewhat', 520: 'sober', 521: 'whole', 522: 'dam', 523: 'brown', 524: 'bulkington', 525: \"o'clock\", 526: 'none', 527: 'coming', 528: \"'ve\", 529: 'wait', 530: 'plane', 531: 'saying', 532: 'grinning', 533: 'placed', 534: 'shouted', 535: 'bedfellow', 536: 'zealand', 537: 'sal', 538: 'wash', 539: 'thrown', 540: 'purplish', 541: 'turn', 542: 'completely', 543: 'fear', 544: 'grego', 545: 'baby', 546: 'slowly', 547: 'civilized', 548: 'purse', 549: 'monkey', 550: 'involuntarily', 551: 'pausing', 552: 'warehouses', 553: 'requires', 554: 'people', 555: 'nearly', 556: 'ocean', 557: 'indian', 558: 'waterward', 559: 'battery', 560: 'noble', 561: 'washed', 562: 'crowds', 563: 'sabbath', 564: 'afternoon', 565: 'thence', 566: 'silent', 567: 'thousands', 568: 'reveries', 569: 'leaning', 570: 'seated', 571: 'bulwarks', 572: 'aloft', 573: 'week', 574: 'plaster', 575: 'gone', 576: 'bound', 577: 'content', 578: 'yonder', 579: 'falling', 580: 'north', 581: 'please', 582: 'ten', 583: 'leaves', 584: 'magic', 585: 'plunged', 586: 'metaphysical', 587: 'chief', 588: 'trunk', 589: 'meadow', 590: 'smoke', 591: 'reaching', 592: 'hill', 593: 'thus', 594: 'pine', 595: 'sighs', 596: 'shepherd', 597: 'june', 598: 'scores', 599: 'thousand', 600: 'sadly', 601: 'robust', 602: 'healthy', 603: 'boy', 604: 'crazy', 605: 'hold', 606: 'holy', 607: 'brother', 608: 'ourselves', 609: 'begin', 610: 'grow', 611: 'inferred', 612: 'needs', 613: \"don't\", 614: 'themselves', 615: 'commodore', 616: 'captain', 617: 'cook', 618: 'glory', 619: 'whatsoever', 620: 'confess', 621: 'officer', 622: 'respectfully', 623: 'horse', 624: 'huge', 625: 'houses', 626: 'forecastle', 627: 'jump', 628: 'spar', 629: 'particularly', 630: 'putting', 631: 'tar', 632: 'schoolmaster', 633: 'boys', 634: 'transition', 635: 'grin', 636: 'bear', 637: 'hunks', 638: 'sweep', 639: 'weighed', 640: 'anything', 641: 'less', 642: 'thump', 643: 'point', 644: 'view', 645: 'single', 646: 'difference', 647: 'act', 648: 'uncomfortable', 649: 'compare', 650: 'earthly', 651: 'enter', 652: 'deck', 653: 'quarter', 654: 'leaders', 655: 'smelt', 656: 'fates', 657: 'doubtless', 658: 'formed', 659: 'run', 660: '\\n\\n\\n', 661: 'stage', 662: 'shabby', 663: 'others', 664: 'circumstances', 665: 'motives', 666: 'various', 667: 'mysterious', 668: 'curiosity', 669: 'tormented', 670: 'everlasting', 671: 'wonder', 672: 'purpose', 673: 'floated', 674: 'stuffed', 675: 'horn', 676: 'arrived', 677: 'offer', 678: 'following', 679: 'embark', 680: 'pleased', 681: 'original', 682: 'stranded', 683: 'leviathan', 684: 'whales', 685: 'nay', 686: 'dismal', 687: 'wherever', 688: 'dreary', 689: 'crossed', 690: 'expensive', 691: 'bright', 692: 'windows', 693: 'packed', 694: 'inches', 695: 'thick', 696: 'hear', 697: 'tinkling', 698: 'glasses', 699: 'blackness', 700: 'moving', 701: 'hour', 702: 'proved', 703: 'meant', 704: 'public', 705: 'box', 706: 'flying', 707: 'harpoons', 708: 'trap', 709: 'loud', 710: 'voice', 711: 'sitting', 712: 'beyond', 713: 'negro', 714: 'creaking', 715: 'swinging', 716: 'painting', 717: 'representing', 718: 'connexion', 719: 'peter', 720: 'itself', 721: 'carted', 722: 'burnt', 723: 'spot', 724: 'queer', 725: 'gable', 726: 'ended', 727: 'sharp', 728: 'wind', 729: 'howling', 730: 'nevertheless', 731: 'called', 732: 'outside', 733: 'passage', 734: 'body', 735: 'curbstone', 736: 'corn', 737: 'pooh', 738: 'northern', 739: 'lights', 740: 'summer', 741: 'lengthwise', 742: 'gods', 743: 'lie', 744: 'plenty', 745: 'study', 746: 'series', 747: 'arrive', 748: 'shadows', 749: 'dint', 750: 'conclusion', 751: 'confounded', 752: 'limber', 753: 'truly', 754: 'drive', 755: 'unimaginable', 756: 'midnight', 757: 'unnatural', 758: 'breaking', 759: 'design', 760: 'opposite', 761: 'monstrous', 762: 'knots', 763: 'vast', 764: 'handle', 765: 'wondered', 766: 'mixed', 767: 'deformed', 768: 'flung', 769: 'iron', 770: 'arched', 771: 'cut', 772: 'times', 773: 'beneath', 774: 'covered', 775: 'gathered', 776: 'stands', 777: 'rude', 778: 'bone', 779: 'abominable', 780: 'measure', 781: 'seamen', 782: 'skrimshander', 783: 'sought', 784: 'added', 785: 'forehead', 786: 'objections', 787: \"'d\", 788: 'used', 789: 'depend', 790: 'decent', 791: 'want', 792: 'ready', 793: 'working', 794: 'space', 795: 'lips', 796: 'fingers', 797: 'fare', 798: 'fellow', 799: 'nightmare', 800: 'nt', 801: 'complexioned', 802: 'eats', 803: \"'em\", 804: 'afore', 805: 'resolved', 806: 'noise', 807: 'offing', 808: 'shaggy', 809: 'woollen', 810: 'stiff', 811: 'labrador', 812: 'wake', 813: 'bad', 814: 'mounted', 815: 'generally', 816: 'shipmates', 817: 'become', 818: 'height', 819: 'seem', 820: 'plan', 821: 'private', 822: 'unknown', 823: 'apartment', 824: 'hammock', 825: 'linen', 826: 'home', 827: 'hole', 828: 'mattress', 829: 'planing', 830: 'knot', 831: 'near', 832: 'sake', 833: 'chair', 834: 'narrow', 835: 'leaving', 836: 'interval', 837: 'met', 838: 'inside', 839: 'violent', 840: 'ones', 841: 'comprehension', 842: 'bird', 843: 'airley', 844: 'airth', 845: 'engaged', 846: 'whittling', 847: 'guess', 848: 'done', 849: 'break', 850: 'broke', 851: 'understand', 852: 'certain', 853: 'demand', 854: 'selling', 855: 'sir', 856: 'string', 857: 'mystery', 858: 'showed', 859: 'dangerous', 860: 'flukes', 861: 'slept', 862: 'big', 863: 'sam', 864: 'lighted', 865: 'wo', 866: 'stairs', 867: 'placing', 868: 'double', 869: 'eyeing', 870: 'belonging', 871: 'papered', 872: 'parcel', 873: 'tried', 874: 'satisfactory', 875: 'concerning', 876: 'edges', 877: 'stuck', 878: 'gave', 879: 'neck', 880: 'sleeves', 881: 'undressed', 882: 'remembering', 883: 'jumped', 884: 'pantaloons', 885: 'blowing', 886: 'doze', 887: 'pretty', 888: 'heavy', 889: 'save', 890: 'infernal', 891: 'peddler', 892: 'yellow', 893: 'colour', 894: 'dreadfully', 895: 'sticking', 896: 'cheeks', 897: 'truth', 898: 'remembered', 899: 'whaleman', 900: 'tattooed', 901: 'concluded', 902: 'lying', 903: 'tanning', 904: 'hot', 905: 'produced', 906: 'beaver', 907: 'singing', 908: 'bolted', 909: 'arms', 910: 'running', 911: 'curious', 912: 'hunch', 913: 'congo', 914: 'ill', 915: 'takes', 916: 'biscuit', 917: 'top', 918: 'lamp', 919: 'succeeded', 920: 'polite', 921: 'guttural', 922: 'pagan', 923: 'spell', 924: 'tobacco', 925: 'grunt', 926: 'whatever', 927: 'ee', 928: 'horrid', 929: 'pipe', 930: 'smoking', 931: 'complied', 932: 'patchwork', 933: 'figure', 934: 'shade', 935: 'quilt', 936: 'hugging', 937: 'sensations', 938: 'explain', 939: 'remember', 940: 'circumstance', 941: 'reality', 942: 'stepmother', 943: 'sixteen', 944: 'abed', 945: 'troubled', 946: 'supernatural', 947: 'ages', 948: 'awful', 949: 'consciousness', 950: 'observing', 951: 'creature', 952: 'dress', 953: 'watching', 954: 'probably', 955: 'toilet', 956: 'wrapped', 957: 'precisely', 958: 'jacket', 959: 'call', 960: 'interest', 961: 'shore', 962: 'watery', 963: 'driving', 964: 'spleen', 965: 'regulating', 966: 'circulation', 967: 'growing', 968: 'grim', 969: 'drizzly', 970: 'november', 971: 'bringing', 972: 'rear', 973: 'funeral', 974: 'meet', 975: 'hypos', 976: 'upper', 977: 'moral', 978: 'principle', 979: 'prevent', 980: 'deliberately', 981: 'stepping', 982: 'methodically', 983: 'knocking', 984: 'hats', 985: 'substitute', 986: 'pistol', 987: 'ball', 988: 'philosophical', 989: 'flourish', 990: 'cato', 991: 'throws', 992: 'surprising', 993: 'cherish', 994: 'feelings', 995: 'insular', 996: 'manhattoes', 997: 'belted', 998: 'wharves', 999: 'isles', 1000: 'coral', 1001: 'reefs', 1002: 'commerce', 1003: 'surrounds', 1004: 'surf', 1005: 'extreme', 1006: 'downtown', 1007: 'mole', 1008: 'waves', 1009: 'cooled', 1010: 'breezes', 1011: 'gazers', 1012: 'circumambulate', 1013: 'dreamy', 1014: 'corlears', 1015: 'hook', 1016: 'coenties', 1017: 'slip', 1018: 'whitehall', 1019: 'northward', 1020: 'see?--posted', 1021: 'sentinels', 1022: 'mortal', 1023: 'spiles', 1024: 'pier', 1025: 'china', 1026: 'rigging', 1027: 'striving', 1028: 'seaward', 1029: 'peep', 1030: 'landsmen', 1031: 'pent', 1032: 'lath', 1033: 'tied', 1034: 'counters', 1035: 'nailed', 1036: 'benches', 1037: 'clinched', 1038: 'desks', 1039: 'fields', 1040: 'pacing', 1041: 'seemingly', 1042: 'dive', 1043: 'extremest', 1044: 'limit', 1045: 'loitering', 1046: 'shady', 1047: 'lee', 1048: 'suffice', 1049: 'possibly', 1050: 'leagues', 1051: 'inlanders', 1052: 'lanes', 1053: 'alleys', 1054: 'avenues', 1055: 'east', 1056: 'west', 1057: 'unite', 1058: 'magnetic', 1059: 'virtue', 1060: 'needles', 1061: 'compasses', 1062: 'attract', 1063: 'thither', 1064: 'lakes', 1065: 'path', 1066: 'carries', 1067: 'dale', 1068: 'pool', 1069: 'absent', 1070: 'minded', 1071: 'deepest', 1072: 'infallibly', 1073: 'region', 1074: 'athirst', 1075: 'desert', 1076: 'experiment', 1077: 'caravan', 1078: 'happen', 1079: 'supplied', 1080: 'professor', 1081: 'knows', 1082: 'meditation', 1083: 'wedded', 1084: 'desires', 1085: 'paint', 1086: 'dreamiest', 1087: 'shadiest', 1088: 'quietest', 1089: 'enchanting', 1090: 'romantic', 1091: 'landscape', 1092: 'valley', 1093: 'saco', 1094: 'element', 1095: 'employs', 1096: 'trees', 1097: 'hollow', 1098: 'hermit', 1099: 'crucifix', 1100: 'sleeps', 1101: 'cattle', 1102: 'cottage', 1103: 'sleepy', 1104: 'woodlands', 1105: 'mazy', 1106: 'overlapping', 1107: 'spurs', 1108: 'mountains', 1109: 'bathed', 1110: 'lies', 1111: 'tranced', 1112: 'tree', 1113: 'shakes', 1114: 'vain', 1115: 'eye', 1116: 'visit', 1117: 'prairies', 1118: 'wade', 1119: 'knee', 1120: 'tiger', 1121: 'lilies', 1122: 'charm', 1123: 'wanting?--water', 1124: 'drop', 1125: 'niagara', 1126: 'cataract', 1127: 'sand', 1128: 'travel', 1129: 'poet', 1130: 'tennessee', 1131: 'receiving', 1132: 'handfuls', 1133: 'silver', 1134: 'deliberate', 1135: 'buy', 1136: 'needed', 1137: 'invest', 1138: 'pedestrian', 1139: 'trip', 1140: 'rockaway', 1141: 'beach', 1142: 'mystical', 1143: 'vibration', 1144: 'persians', 1145: 'greeks', 1146: 'separate', 1147: 'deity', 1148: 'jove', 1149: 'surely', 1150: 'deeper', 1151: 'narcissus', 1152: 'grasp', 1153: 'tormenting', 1154: 'mild', 1155: 'fountain', 1156: 'drowned', 1157: 'rivers', 1158: 'oceans', 1159: 'ungraspable', 1160: 'key', 1161: 'habit', 1162: 'hazy', 1163: 'conscious', 1164: 'lungs', 1165: 'rag', 1166: 'sick', 1167: 'quarrelsome', 1168: 'nights', 1169: 'enjoy', 1170: 'general', 1171: 'thing;--no', 1172: 'salt', 1173: 'abandon', 1174: 'distinction', 1175: 'offices', 1176: 'abominate', 1177: 'honourable', 1178: 'respectable', 1179: 'toils', 1180: 'trials', 1181: 'tribulations', 1182: 'barques', 1183: 'brigs', 1184: 'schooners', 1185: 'cook,--though', 1186: 'considerable', 1187: 'fancied', 1188: 'broiling', 1189: 'fowls;--though', 1190: 'judiciously', 1191: 'buttered', 1192: 'judgmatically', 1193: 'salted', 1194: 'peppered', 1195: 'reverentially', 1196: 'fowl', 1197: 'idolatrous', 1198: 'dotings', 1199: 'egyptians', 1200: 'ibis', 1201: 'roasted', 1202: 'river', 1203: 'mummies', 1204: 'creatures', 1205: 'bake', 1206: 'pyramids', 1207: 'simple', 1208: 'plumb', 1209: 'royal', 1210: 'grasshopper', 1211: 'unpleasant', 1212: 'touches', 1213: 'honour', 1214: 'established', 1215: 'family', 1216: 'van', 1217: 'rensselaers', 1218: 'randolphs', 1219: 'hardicanutes', 1220: 'pot', 1221: 'lording', 1222: 'tallest', 1223: 'awe', 1224: 'keen', 1225: 'assure', 1226: 'decoction', 1227: 'seneca', 1228: 'stoics', 1229: 'enable', 1230: 'wears', 1231: 'orders', 1232: 'broom', 1233: 'decks', 1234: 'indignity', 1235: 'amount', 1236: 'scales', 1237: 'testament', 1238: 'archangel', 1239: 'gabriel', 1240: 'promptly', 1241: 'obey', 1242: 'instance', 1243: 'slave', 1244: 'captains', 1245: 'punch', 1246: 'satisfaction', 1247: 'everybody', 1248: 'served', 1249: 'physical', 1250: 'universal', 1251: 'rub', 1252: 'shoulder', 1253: 'blades', 1254: 'trouble', 1255: 'whereas', 1256: 'contrary', 1257: 'paid', 1258: 'infliction', 1259: 'orchard', 1260: 'thieves', 1261: 'entailed', 1262: 'paid,--what', 1263: 'urbane', 1264: 'activity', 1265: 'receives', 1266: 'considering', 1267: 'earnestly', 1268: 'believe', 1269: 'root', 1270: 'ills', 1271: 'monied', 1272: 'ah', 1273: 'cheerfully', 1274: 'consign', 1275: 'perdition', 1276: 'finally', 1277: 'wholesome', 1278: 'exercise', 1279: 'pure', 1280: 'fore', 1281: 'castle', 1282: 'prevalent', 1283: 'astern', 1284: 'violate', 1285: 'pythagorean', 1286: 'maxim', 1287: 'gets', 1288: 'atmosphere', 1289: 'breathes', 1290: 'commonalty', 1291: 'suspect', 1292: 'wherefore', 1293: 'repeatedly', 1294: 'merchant', 1295: 'invisible', 1296: 'police', 1297: 'constant', 1298: 'surveillance', 1299: 'secretly', 1300: 'dogs', 1301: 'influences', 1302: 'programme', 1303: 'providence', 1304: 'drawn', 1305: 'brief', 1306: 'interlude', 1307: 'solo', 1308: 'extensive', 1309: 'performances', 1310: 'bill', 1311: 'contested', 1312: 'election', 1313: 'presidency', 1314: 'united', 1315: 'states', 1316: 'bloody', 1317: 'battle', 1318: 'affghanistan', 1319: 'managers', 1320: 'magnificent', 1321: 'tragedies', 1322: 'genteel', 1323: 'comedies', 1324: 'farces', 1325: 'recall', 1326: 'springs', 1327: 'cunningly', 1328: 'presented', 1329: 'disguises', 1330: 'induced', 1331: 'performing', 1332: 'cajoling', 1333: 'delusion', 1334: 'choice', 1335: 'resulting', 1336: 'unbiased', 1337: 'freewill', 1338: 'discriminating', 1339: 'judgment', 1340: 'overwhelming', 1341: 'monster', 1342: 'roused', 1343: 'bulk', 1344: 'undeliverable', 1345: 'perils', 1346: 'attending', 1347: 'marvels', 1348: 'patagonian', 1349: 'sights', 1350: 'helped', 1351: 'sway', 1352: 'wish', 1353: 'inducements', 1354: 'itch', 1355: 'remote', 1356: 'love', 1357: 'forbidden', 1358: 'barbarous', 1359: 'coasts', 1360: 'ignoring', 1361: 'quick', 1362: 'perceive', 1363: 'horror', 1364: 'social', 1365: 'friendly', 1366: 'terms', 1367: 'inmates', 1368: 'lodges', 1369: 'welcome', 1370: 'flood', 1371: 'gates', 1372: 'swung', 1373: 'conceits', 1374: 'swayed', 1375: 'inmost', 1376: 'endless', 1377: 'processions', 1378: 'mid', 1379: 'hooded', 1380: 'carpet', 1381: 'tucked', 1382: 'started', 1383: 'pacific', 1384: 'quitting', 1385: 'manhatto', 1386: 'duly', 1387: 'december', 1388: 'disappointed', 1389: 'learning', 1390: 'packet', 1391: 'already', 1392: 'sailed', 1393: 'monday', 1394: 'candidates', 1395: 'pains', 1396: 'penalties', 1397: 'related', 1398: 'doing', 1399: 'boisterous', 1400: 'everything', 1401: 'connected', 1402: 'famous', 1403: 'amazingly', 1404: 'gradually', 1405: 'monopolising', 1406: 'behind', 1407: 'tyre', 1408: 'carthage;--the', 1409: 'aboriginal', 1410: 'whalemen', 1411: 'sally', 1412: 'canoes', 1413: 'chase', 1414: 'adventurous', 1415: 'sloop', 1416: 'forth', 1417: 'laden', 1418: 'imported', 1419: 'cobblestones', 1420: 'throw', 1421: 'discover', 1422: 'risk', 1423: 'bowsprit', 1424: 'destined', 1425: 'port', 1426: 'concernment', 1427: 'eat', 1428: 'dubious', 1429: 'bitingly', 1430: 'cheerless', 1431: 'anxious', 1432: 'grapnels', 1433: 'sounded', 1434: 'brought', 1435: 'pieces', 1436: 'silver,--so', 1437: 'shouldering', 1438: 'comparing', 1439: 'gloom', 1440: 'wisdom', 1441: 'conclude', 1442: 'lodge', 1443: 'dear', 1444: 'inquire', 1445: 'price', 1446: 'halting', 1447: 'steps', 1448: 'paced', 1449: 'harpoons\"--but', 1450: 'fervent', 1451: 'rays', 1452: 'melted', 1453: 'everywhere', 1454: 'congealed', 1455: 'asphaltic', 1456: 'pavement,--rather', 1457: 'weary', 1458: 'struck', 1459: 'flinty', 1460: 'projections', 1461: 'remorseless', 1462: 'service', 1463: 'soles', 1464: 'miserable', 1465: 'plight', 1466: 'glare', 1467: 'patched', 1468: 'stopping', 1469: 'instinct', 1470: 'followed', 1471: 'cheapest', 1472: 'cheeriest', 1473: 'inns', 1474: 'blocks', 1475: 'tomb', 1476: 'deserted', 1477: 'smoky', 1478: 'proceeding', 1479: 'building', 1480: 'invitingly', 1481: 'careless', 1482: 'uses', 1483: 'stumble', 1484: 'ash', 1485: 'porch', 1486: 'particles', 1487: 'choked', 1488: 'destroyed', 1489: 'gomorrah', 1490: 'fish?\"--this', 1491: 'picked', 1492: 'hearing', 1493: 'pushed', 1494: 'interior', 1495: 'parliament', 1496: 'tophet', 1497: 'hundred', 1498: 'faces', 1499: 'rows', 1500: 'peer', 1501: 'angel', 1502: 'doom', 1503: 'beating', 1504: 'book', 1505: 'pulpit', 1506: 'church', 1507: 'preacher', 1508: 'text', 1509: 'weeping', 1510: 'wailing', 1511: 'gnashing', 1512: 'muttered', 1513: 'backing', 1514: 'wretched', 1515: 'entertainment', 1516: 'docks', 1517: 'forlorn', 1518: 'faintly', 1519: 'jet', 1520: 'misty', 1521: 'spray', 1522: 'words', 1523: 'underneath--\"the', 1524: 'inn:--peter', 1525: 'coffin?--spouter?--rather', 1526: 'ominous', 1527: 'common', 1528: 'emigrant', 1529: 'dilapidated', 1530: 'ruins', 1531: 'district', 1532: 'poverty', 1533: 'stricken', 1534: 'creak', 1535: 'cheap', 1536: 'lodgings', 1537: 'pea', 1538: 'coffee', 1539: 'palsied', 1540: 'bleak', 1541: 'paul', 1542: 'tossed', 1543: 'mighty', 1544: 'pleasant', 1545: 'zephyr', 1546: 'doors', 1547: 'hob', 1548: 'toasting', 1549: 'judging', 1550: 'writer', 1551: 'whose', 1552: 'works', 1553: 'possess', 1554: 'copy', 1555: 'extant--\"it', 1556: 'maketh', 1557: 'lookest', 1558: 'observest', 1559: 'sashless', 1560: 'sides', 1561: 'wight', 1562: 'glazier', 1563: 'letter', 1564: 'reasonest', 1565: 'pity', 1566: 'chinks', 1567: 'crannies', 1568: 'thrust', 1569: 'lint', 1570: 'improvements', 1571: 'universe', 1572: 'finished', 1573: 'copestone', 1574: 'chips', 1575: 'million', 1576: 'chattering', 1577: 'pillow', 1578: 'shaking', 1579: 'tatters', 1580: 'shiverings', 1581: 'plug', 1582: 'ears', 1583: 'rags', 1584: 'cob', 1585: 'silken', 1586: 'wrapper--(he', 1587: 'redder', 1588: 'frosty', 1589: 'orion', 1590: 'glitters', 1591: 'talk', 1592: 'oriental', 1593: 'climes', 1594: 'conservatories', 1595: 'privilege', 1596: 'coals', 1597: 'warm', 1598: 'sumatra', 1599: 'line', 1600: 'equator', 1601: 'yea', 1602: 'fiery', 1603: 'pit', 1604: 'wonderful', 1605: 'iceberg', 1606: 'moored', 1607: 'moluccas', 1608: 'lives', 1609: 'czar', 1610: 'palace', 1611: 'president', 1612: 'temperance', 1613: 'society', 1614: 'drinks', 1615: 'tepid', 1616: 'tears', 1617: 'orphans', 1618: 'blubbering', 1619: 'scrape', 1620: 'frosted', 1621: 'straggling', 1622: 'fashioned', 1623: 'wainscots', 1624: 'reminding', 1625: 'condemned', 1626: 'oilpainting', 1627: 'thoroughly', 1628: 'besmoked', 1629: 'defaced', 1630: 'unequal', 1631: 'crosslights', 1632: 'viewed', 1633: 'diligent', 1634: 'systematic', 1635: 'visits', 1636: 'careful', 1637: 'inquiry', 1638: 'neighbors', 1639: 'understanding', 1640: 'masses', 1641: 'shades', 1642: 'ambitious', 1643: 'england', 1644: 'hags', 1645: 'endeavored', 1646: 'delineate', 1647: 'chaos', 1648: 'bewitched', 1649: 'earnest', 1650: 'contemplation', 1651: 'oft', 1652: 'repeated', 1653: 'ponderings', 1654: 'unwarranted', 1655: 'puzzled', 1656: 'mass', 1657: 'hovering', 1658: 'perpendicular', 1659: 'lines', 1660: 'floating', 1661: 'yeast', 1662: 'boggy', 1663: 'soggy', 1664: 'squitchy', 1665: 'nervous', 1666: 'distracted', 1667: 'indefinite', 1668: 'attained', 1669: 'sublimity', 1670: 'fairly', 1671: 'froze', 1672: 'oath', 1673: 'anon', 1674: 'alas', 1675: 'deceptive', 1676: 'dart', 1677: 'through.--it', 1678: 'gale.--it', 1679: 'combat', 1680: 'primal', 1681: 'elements.--it', 1682: 'blasted', 1683: 'heath.--it', 1684: 'hyperborean', 1685: 'winter', 1686: 'scene.--it', 1687: 'icebound', 1688: 'fancies', 1689: 'yielded', 1690: 'midst', 1691: 'faint', 1692: 'resemblance', 1693: 'gigantic', 1694: 'final', 1695: 'theory', 1696: 'based', 1697: 'aggregated', 1698: 'opinions', 1699: 'aged', 1700: 'persons', 1701: 'conversed', 1702: 'subject', 1703: 'represents', 1704: 'horner', 1705: 'hurricane', 1706: 'foundered', 1707: 'weltering', 1708: 'dismantled', 1709: 'masts', 1710: 'alone', 1711: 'visible', 1712: 'exasperated', 1713: 'purposing', 1714: 'spring', 1715: 'enormous', 1716: 'impaling', 1717: 'heathenish', 1718: 'array', 1719: 'clubs', 1720: 'spears', 1721: 'thickly', 1722: 'glittering', 1723: 'resembling', 1724: 'ivory', 1725: 'saws', 1726: 'tufted', 1727: 'sickle', 1728: 'shaped', 1729: 'sweeping', 1730: 'segment', 1731: 'mown', 1732: 'grass', 1733: 'armed', 1734: 'mower', 1735: 'shuddered', 1736: 'gazed', 1737: 'harvesting', 1738: 'hacking', 1739: 'horrifying', 1740: 'implement', 1741: 'rusty', 1742: 'lances', 1743: 'storied', 1744: 'weapons', 1745: 'lance', 1746: 'wildly', 1747: 'elbowed', 1748: 'fifty', 1749: 'nathan', 1750: 'swain', 1751: 'fifteen', 1752: 'sunrise', 1753: 'sunset', 1754: 'corkscrew', 1755: 'javan', 1756: 'slain', 1757: 'blanco', 1758: 'tail', 1759: 'restless', 1760: 'needle', 1761: 'sojourning', 1762: 'travelled', 1763: 'forty', 1764: 'imbedded', 1765: 'hump', 1766: 'crossing', 1767: 'dusky', 1768: 'yon', 1769: 'central', 1770: 'fireplaces', 1771: 'duskier', 1772: 'ponderous', 1773: 'beams', 1774: 'above', 1775: 'planks', 1776: 'trod', 1777: 'cockpits', 1778: 'anchored', 1779: 'ark', 1780: 'rocked', 1781: 'furiously', 1782: 'cracked', 1783: 'cases', 1784: 'filled', 1785: 'dusty', 1786: 'rarities', 1787: 'remotest', 1788: 'nooks', 1789: 'projecting', 1790: 'angle', 1791: 'den', 1792: 'attempt', 1793: 'jaw', 1794: 'coach', 1795: 'shelves', 1796: 'ranged', 1797: 'decanters', 1798: 'bottles', 1799: 'flasks', 1800: 'jaws', 1801: 'swift', 1802: 'destruction', 1803: 'cursed', 1804: 'bustles', 1805: 'withered', 1806: 'dearly', 1807: 'sells', 1808: 'deliriums', 1809: 'tumblers', 1810: 'pours', 1811: 'poison', 1812: 'cylinders', 1813: 'villanous', 1814: 'goggling', 1815: 'deceitfully', 1816: 'tapered', 1817: 'downwards', 1818: 'cheating', 1819: 'bottom', 1820: 'parallel', 1821: 'meridians', 1822: 'rudely', 1823: 'pecked', 1824: 'surround', 1825: 'footpads', 1826: 'goblets', 1827: 'fill', 1828: 'mark', 1829: 'charge', 1830: 'gulp', 1831: 'shilling', 1832: 'number', 1833: 'examining', 1834: 'divers', 1835: 'specimens', 1836: 'desired', 1837: 'accommodated', 1838: 'received', 1839: 'unoccupied', 1840: 'avast', 1841: 'tapping', 1842: 'haint', 1843: 'sharing', 1844: \"s'pose\", 1845: 'whalin', 1846: 'liked', 1847: 'decidedly', 1848: 'objectionable', 1849: 'wander', 1850: 'seat', 1851: 'supper?--you', 1852: \"supper'll\", 1853: 'directly', 1854: 'carved', 1855: 'end', 1856: 'ruminating', 1857: 'adorning', 1858: 'jack', 1859: 'knife', 1860: 'stooping', 1861: 'diligently', 1862: 'headway', 1863: 'five', 1864: 'summoned', 1865: 'meal', 1866: 'adjoining', 1867: 'iceland', 1868: 'afford', 1869: 'tallow', 1870: 'candles', 1871: 'winding', 1872: 'sheet', 1873: 'fain', 1874: 'button', 1875: 'jackets', 1876: 'cups', 1877: 'scalding', 1878: 'tea', 1879: 'substantial', 1880: 'meat', 1881: 'potatoes', 1882: 'addressed', 1883: 'direful', 1884: 'sartainty', 1885: 'whispered', 1886: 'oh', 1887: 'diabolically', 1888: 'funny', 1889: 'steaks', 1890: 'likes', 1891: 'rare', 1892: 'suspicious', 1893: 'rate', 1894: 'undress', 1895: 'company', 1896: 'evening', 1897: 'looker', 1898: 'rioting', 1899: 'starting', 1900: 'cried', 1901: 'grampus', 1902: 'crew', 1903: 'seed', 1904: 'reported', 1905: 'hurrah', 1906: 'latest', 1907: 'news', 1908: 'feegees', 1909: 'tramping', 1910: 'mariners', 1911: 'enveloped', 1912: 'coats', 1913: 'muffled', 1914: 'comforters', 1915: 'bedarned', 1916: 'ragged', 1917: 'beards', 1918: 'icicles', 1919: 'eruption', 1920: 'bears', 1921: 'boat', 1922: 'officiating', 1923: 'poured', 1924: 'brimmers', 1925: 'complained', 1926: 'pitch', 1927: 'potion', 1928: 'gin', 1929: 'molasses', 1930: 'swore', 1931: 'sovereign', 1932: 'cure', 1933: 'colds', 1934: 'catarrhs', 1935: 'caught', 1936: 'coast', 1937: 'weather', 1938: 'liquor', 1939: 'arrantest', 1940: 'topers', 1941: 'newly', 1942: 'capering', 1943: 'obstreperously', 1944: 'observed', 1945: 'aloof', 1946: 'desirous', 1947: 'spoil', 1948: 'hilarity', 1949: 'refrained', 1950: 'interested', 1951: 'ordained', 1952: 'shipmate', 1953: 'partner', 1954: 'narrative', 1955: 'concerned', 1956: 'venture', 1957: 'description', 1958: 'six', 1959: 'shoulders', 1960: 'coffer', 1961: 'seldom', 1962: 'brawn', 1963: 'deeply', 1964: 'dazzling', 1965: 'contrast', 1966: 'reminiscences', 1967: 'joy', 1968: 'announced', 1969: 'southerner', 1970: 'stature', 1971: 'mountaineers', 1972: 'alleghanian', 1973: 'ridge', 1974: 'virginia', 1975: 'revelry', 1976: 'companions', 1977: 'slipped', 1978: 'unobserved', 1979: 'comrade', 1980: 'minutes', 1981: 'missed', 1982: 'seems', 1983: 'favourite', 1984: 'raised', 1985: 'cry', 1986: 'darted', 1987: 'pursuit', 1988: 'nine', 1989: 'seeming', 1990: 'supernaturally', 1991: 'orgies', 1992: 'congratulate', 1993: 'entrance', 1994: 'prefers', 1995: 'comes', 1996: 'indefinitely', 1997: 'multiply', 1998: 'anybody', 1999: 'bachelor', 2000: 'kings', 2001: 'ashore', 2002: 'cover', 2003: 'pondered', 2004: 'abominated', 2005: 'fair', 2006: 'presume', 2007: 'case', 2008: 'tidiest', 2009: 'certainly', 2010: 'finest', 2011: 'twitch', 2012: 'ought', 2013: 'bedwards', 2014: 'tumble', 2015: 'vile', 2016: 'changed', 2017: 'harpooneer.--i', 2018: 'sha', 2019: \"'m\", 2020: 'sorry', 2021: 'spare', 2022: 'tablecloth', 2023: 'plaguy', 2024: 'rough', 2025: 'here\"--feeling', 2026: 'notches', 2027: 'carpenter', 2028: 'snug', 2029: 'procured', 2030: 'silk', 2031: 'handkerchief', 2032: 'dusting', 2033: 'vigorously', 2034: 'ape', 2035: 'flew', 2036: 'bump', 2037: 'indestructible', 2038: 'spraining', 2039: 'wrist', 2040: 'quit', 2041: 'soft', 2042: 'suit', 2043: 'eider', 2044: 'plank', 2045: 'gathering', 2046: 'stove', 2047: 'mended', 2048: 'higher', 2049: 'planed', 2050: 'yoking', 2051: 'clear', 2052: 'draught', 2053: 'sill', 2054: 'current', 2055: 'rickety', 2056: 'whirlwinds', 2057: 'immediate', 2058: 'vicinity', 2059: 'fetch', 2060: 'steal', 2061: 'march', 2062: 'bolt', 2063: 'wakened', 2064: 'knockings', 2065: 'thoughts', 2066: 'dismissed', 2067: 'popped', 2068: 'knock', 2069: 'chance', 2070: 'spending', 2071: 'sufferable', 2072: 'person', 2073: 'cherishing', 2074: 'unwarrantable', 2075: 'prejudices', 2076: 'awhile', 2077: 'dropping', 2078: 'bedfellows', 2079: 'boarders', 2080: 'twos', 2081: 'threes', 2082: 'twelve', 2083: 'chuckled', 2084: 'lean', 2085: 'chuckle', 2086: 'mightily', 2087: 'tickled', 2088: 'answered', 2089: 'early', 2090: 'rise', 2091: 'catches', 2092: 'worm', 2093: 'keeps', 2094: 'head?--what', 2095: 'bamboozingly', 2096: 'towering', 2097: 'rage', 2098: 'pretend', 2099: 'actually', 2100: 'blessed', 2101: 'market', 2102: 'overstocked', 2103: 'calmly', 2104: 'spinning', 2105: 'yarn', 2106: \"i'm\", 2107: 'stick', 2108: 'toothpick', 2109: 'rayther', 2110: 'hears', 2111: 'slanderin', 2112: 'passion', 2113: 'farrago', 2114: \"a'ready\", 2115: 'i--\"broke', 2116: 'sartain', 2117: 'cool', 2118: 'mt.', 2119: 'hecla', 2120: 'storm--\"landlord', 2121: 'delay', 2122: 'belongs', 2123: 'persist', 2124: 'mystifying', 2125: 'exasperating', 2126: 'stories', 2127: 'tending', 2128: 'beget', 2129: 'intimate', 2130: 'confidential', 2131: 'highest', 2132: 'shall', 2133: 'respects', 2134: 'safe', 2135: 'unsay', 2136: 'evidence', 2137: 'stark', 2138: 'mad', 2139: 'madman', 2140: 'induce', 2141: 'knowingly', 2142: 'thereby', 2143: 'render', 2144: 'liable', 2145: 'criminal', 2146: 'prosecution', 2147: 'fetching', 2148: 'breath', 2149: 'purty', 2150: 'sarmon', 2151: 'rips', 2152: 'tellin', 2153: 'bought', 2154: 'lot', 2155: 'balmed', 2156: 'curios', 2157: 'sold', 2158: 'cause', 2159: 'morrow', 2160: 'sellin', 2161: 'folks', 2162: 'churches', 2163: 'wanted', 2164: 'stopped', 2165: 'strung', 2166: 'inions', 2167: 'cleared', 2168: 'otherwise', 2169: 'fooling', 2170: 'stayed', 2171: 'idolators', 2172: 'pays', 2173: \"reg'lar\", 2174: 'rejoinder', 2175: 'dreadful', 2176: 'turning', 2177: 'nice', 2178: 'spliced', 2179: 'kick', 2180: 'almighty', 2181: 'johnny', 2182: 'dreaming', 2183: 'sprawling', 2184: 'pitched', 2185: 'arter', 2186: 'glim', 2187: 'jiffy', 2188: 'offering', 2189: 'irresolute', 2190: 'clock', 2191: 'exclaimed', 2192: 'vum', 2193: 'anchor', 2194: 'somewhere', 2195: \"won't\", 2196: 'considered', 2197: 'ushered', 2198: 'clam', 2199: 'furnished', 2200: 'prodigious', 2201: 'harpooneers', 2202: 'abreast', 2203: 'duty', 2204: 'comfortable', 2205: 'disappeared', 2206: 'folding', 2207: 'stooped', 2208: 'elegant', 2209: 'scrutiny', 2210: 'tolerably', 2211: 'glanced', 2212: 'bedstead', 2213: 'furniture', 2214: 'walls', 2215: 'fireboard', 2216: 'striking', 2217: 'properly', 2218: 'lashed', 2219: 'also', 2220: 'seaman', 2221: 'containing', 2222: 'wardrobe', 2223: 'doubt', 2224: 'lieu', 2225: 'likewise', 2226: 'outlandish', 2227: 'hooks', 2228: 'close', 2229: 'ornamented', 2230: 'tags', 2231: 'stained', 2232: 'porcupine', 2233: 'quills', 2234: 'moccasin', 2235: 'slit', 2236: 'ponchos', 2237: 'parade', 2238: 'guise', 2239: 'hamper', 2240: 'uncommonly', 2241: 'wearing', 2242: 'rainy', 2243: 'tore', 2244: 'hurry', 2245: 'kink', 2246: 'beginning', 2247: 'ado', 2248: 'tumbled', 2249: 'commended', 2250: 'cobs', 2251: 'crockery', 2252: 'slid', 2253: 'nod', 2254: 'footfall', 2255: 'glimmer', 2256: 'lord', 2257: 'perfectly', 2258: 'word', 2259: 'spoken', 2260: 'identical', 2261: 'knotted', 2262: 'cords', 2263: 'spoke', 2264: 'eagerness', 2265: 'averted', 2266: 'employed', 2267: 'unlacing', 2268: 'accomplished', 2269: 'blackish', 2270: 'terrible', 2271: 'fight', 2272: 'surgeon', 2273: 'chanced', 2274: 'plainly', 2275: 'plasters', 2276: 'stains', 2277: 'inkling', 2278: 'cannibals', 2279: 'course', 2280: 'voyages', 2281: 'adventure', 2282: 'honest', 2283: 'unearthly', 2284: 'complexion', 2285: 'independent', 2286: 'tattooing', 2287: 'tropical', 2288: 'extraordinary', 2289: 'effects', 2290: 'ideas', 2291: 'passing', 2292: 'lightning', 2293: 'noticed', 2294: 'difficulty', 2295: 'fumbling', 2296: 'pulled', 2297: 'seal', 2298: 'wallet', 2299: 'ghastly', 2300: 'crammed', 2301: 'fresh', 2302: 'surprise', 2303: 'least', 2304: 'scalp', 2305: 'twisted', 2306: 'bald', 2307: 'mildewed', 2308: 'skull', 2309: 'quicker', 2310: 'dinner', 2311: 'slipping', 2312: 'coward', 2313: 'purple', 2314: 'rascal', 2315: 'ignorance', 2316: 'parent', 2317: 'nonplussed', 2318: 'game', 2319: 'address', 2320: 'inexplicable', 2321: 'continued', 2322: 'undressing', 2323: 'live', 2324: 'checkered', 2325: 'thirty', 2326: 'war', 2327: 'escaped', 2328: 'marked', 2329: 'frogs', 2330: 'trunks', 2331: 'palms', 2332: 'shipped', 2333: 'aboard', 2334: 'quaked', 2335: 'brothers', 2336: 'shuddering', 2337: 'fascinated', 2338: 'attention', 2339: 'convinced', 2340: 'heathen', 2341: 'wrapall', 2342: 'dreadnaught', 2343: 'previously', 2344: 'fumbled', 2345: 'pockets', 2346: 'embalmed', 2347: 'manikin', 2348: 'real', 2349: 'preserved', 2350: 'glistened', 2351: 'polished', 2352: 'ebony', 2353: 'empty', 2354: 'removing', 2355: 'sets', 2356: 'backed', 2357: 'tenpin', 2358: 'andirons', 2359: 'jambs', 2360: 'bricks', 2361: 'sooty', 2362: 'appropriate', 2363: 'shrine', 2364: 'chapel', 2365: 'screwed', 2366: 'hidden', 2367: 'ease', 2368: 'meantime', 2369: 'follow', 2370: 'handful', 2371: 'places', 2372: 'carefully', 2373: 'laying', 2374: 'applying', 2375: 'flame', 2376: 'kindled', 2377: 'sacrificial', 2378: 'blaze', 2379: 'hasty', 2380: 'snatches', 2381: 'hastier', 2382: 'withdrawals', 2383: 'whereby', 2384: 'scorching', 2385: 'badly', 2386: 'drawing', 2387: 'heat', 2388: 'dry', 2389: 'moved', 2390: 'antics', 2391: 'accompanied', 2392: 'noises', 2393: 'devotee', 2394: 'praying', 2395: 'sing', 2396: 'song', 2397: 'psalmody', 2398: 'during', 2399: 'twitched', 2400: 'extinguishing', 2401: 'unceremoniously', 2402: 'bagged', 2403: 'carelessly', 2404: 'sportsman', 2405: 'bagging', 2406: 'woodcock', 2407: 'proceedings', 2408: 'increased', 2409: 'uncomfortableness', 2410: 'exhibiting', 2411: 'symptoms', 2412: 'concluding', 2413: 'operations', 2414: 'jumping', 2415: 'spent', 2416: 'deliberating', 2417: 'fatal', 2418: 'examined', 2419: 'instant', 2420: 'puffed', 2421: 'clouds', 2422: 'extinguished', 2423: 'sprang', 2424: 'sang', 2425: 'giving', 2426: 'sudden', 2427: 'astonishment', 2428: 'stammering', 2429: 'conjured', 2430: 'whoever', 2431: 'responses', 2432: 'satisfied', 2433: 'comprehended', 2434: 'debel', 2435: 'you?\"--he', 2436: 'said--\"you', 2437: 'e.', 2438: 'flourishing', 2439: 'god', 2440: 'angels', 2441: 'growled', 2442: 'flourishings', 2443: 'scattered', 2444: 'thank', 2445: 'leaping', 2446: 'ran', 2447: 'harm', 2448: \"know'd\", 2449: \"it;--didn't\", 2450: 'peddlin', 2451: 'town?--but', 2452: 'sleepe', 2453: 'plenty\"--grunted', 2454: 'puffing', 2455: 'gettee', 2456: 'motioning', 2457: 'clothes', 2458: 'civil', 2459: 'charitable', 2460: 'tattooings', 2461: 'comely', 2462: 'fuss', 2463: 'drunken', 2464: 'stash', 2465: 'insured', 2466: 'politely', 2467: 'motioned', 2468: 'rolling', 2469: 'touch', 2470: 'leg', 2471: 'daylight', 2472: 'loving', 2473: 'affectionate', 2474: 'wife', 2475: 'odd', 2476: 'parti', 2477: 'coloured', 2478: 'triangles', 2479: 'interminable', 2480: 'cretan', 2481: 'labyrinth', 2482: 'precise', 2483: 'owing', 2484: 'keeping', 2485: 'unmethodically', 2486: 'irregularly', 2487: 'strip', 2488: 'awoke', 2489: 'hardly', 2490: 'blended', 2491: 'hues', 2492: 'weight', 2493: 'pressure', 2494: 'child', 2495: 'befell', 2496: 'dream', 2497: 'entirely', 2498: 'cutting', 2499: 'caper', 2500: 'crawl', 2501: 'whipping', 2502: 'sending', 2503: 'supperless,--my', 2504: 'mother', 2505: 'dragged', 2506: '21st', 2507: 'longest', 2508: 'year', 2509: 'hemisphere', 2510: 'third', 2511: 'sigh', 2512: 'sheets', 2513: 'dismally', 2514: 'calculating', 2515: 'entire', 2516: 'elapse', 2517: 'hope', 2518: 'resurrection', 2519: 'ached', 2520: 'shining', 2521: 'rattling', 2522: 'coaches', 2523: 'sound', 2524: 'gay', 2525: 'voices', 2526: 'dressed', 2527: 'softly', 2528: 'stockinged', 2529: 'threw', 2530: 'beseeching', 2531: 'favour', 2532: 'slippering', 2533: 'misbehaviour', 2534: 'condemning', 2535: 'unendurable', 2536: 'she', 2537: 'conscientious', 2538: 'stepmothers', 2539: 'several', 2540: 'awake', 2541: 'greatest', 2542: 'subsequent', 2543: 'misfortunes', 2544: 'fallen', 2545: 'steeped', 2546: 'dreams', 2547: 'lit', 2548: 'outer', 2549: 'instantly', 2550: 'shock', 2551: 'frame', 2552: 'form', 2553: 'belonged', 2554: 'closely', 2555: 'piled', 2556: 'fears', 2557: 'daring', 2558: 'drag', 2559: 'stir', 2560: 'inch', 2561: 'glided', 2562: 'shudderingly', 2563: 'weeks', 2564: 'months', 2565: 'lost', 2566: 'confounding', 2567: 'attempts', 2568: 'often', 2569: 'puzzle', 2570: 'strangeness', 2571: 'experienced', 2572: 'past', 2573: 'events', 2574: 'soberly', 2575: 'recurred', 2576: 'alive', 2577: 'comical', 2578: 'predicament', 2579: 'move', 2580: 'unlock', 2581: 'bridegroom', 2582: 'clasp', 2583: 'hugged', 2584: 'tightly', 2585: 'naught', 2586: 'twain', 2587: 'strove', 2588: 'rouse', 2589: 'him--\"queequeg!\"--but', 2590: 'snore', 2591: 'collar', 2592: 'slight', 2593: 'scratch', 2594: 'aside', 2595: 'hatchet', 2596: 'faced', 2597: 'pickle', 2598: 'queequeg!--in', 2599: 'goodness', 2600: 'wriggling', 2601: 'incessant', 2602: 'expostulations', 2603: 'unbecomingness', 2604: 'male', 2605: 'matrimonial', 2606: 'style', 2607: 'extracting', 2608: 'drew', 2609: 'shook', 2610: 'newfoundland', 2611: 'dog', 2612: 'pike', 2613: 'staff', 2614: 'rubbing', 2615: 'dawning', 2616: 'serious', 2617: 'misgivings', 2618: 'bent', 2619: 'narrowly', 2620: 'touching', 2621: 'character', 2622: 'reconciled', 2623: 'signs', 2624: 'leave', 2625: 'overture', 2626: 'savages', 2627: 'innate', 2628: 'delicacy', 2629: 'essentially', 2630: 'compliment', 2631: 'treated', 2632: 'civility', 2633: 'consideration', 2634: 'guilty', 2635: 'rudeness', 2636: 'staring', 2637: 'toilette', 2638: 'motions', 2639: 'breeding', 2640: 'ways', 2641: 'worth', 2642: 'unusual', 2643: 'regarding', 2644: 'dressing', 2645: 'donning', 2646: 'minus', 2647: 'trowsers', 2648: 'hunted', 2649: 'movement', 2650: 'crush', 2651: 'sundry', 2652: 'gaspings', 2653: 'strainings', 2654: 'work', 2655: 'booting', 2656: 'law', 2657: 'propriety', 2658: 'required', 2659: 'neither', 2660: 'caterpillar', 2661: 'butterfly', 2662: 'show', 2663: 'outlandishness', 2664: 'strangest', 2665: 'manners', 2666: 'education', 2667: 'completed', 2668: 'undergraduate', 2669: 'dreamt', 2670: 'emerged', 2671: 'dented', 2672: 'crushed', 2673: 'limping', 2674: 'accustomed', 2675: 'pair', 2676: 'cowhide', 2677: 'pinched', 2678: 'curtains', 2679: 'commanded', 2680: 'indecorous', 2681: 'staving', 2682: 'begged', 2683: 'accelerate', 2684: 'proceeded', 2685: 'amazement', 2686: 'contented', 2687: 'restricting', 2688: 'ablutions', 2689: 'donned', 2690: 'waistcoat', 2691: 'piece', 2692: 'soap', 2693: 'dipped', 2694: 'lathering', 2695: 'razor', 2696: 'lo', 2697: 'behold', 2698: 'slips', 2699: 'stock', 2700: 'unsheathes', 2701: 'whets', 2702: 'boot', 2703: 'striding', 2704: 'mirror', 2705: 'begins', 2706: 'vigorous', 2707: 'scraping', 2708: 'harpooning', 2709: 'using', 2710: 'rogers', 2711: 'cutlery', 2712: 'vengeance', 2713: 'operation', 2714: 'steel', 2715: 'exceedingly', 2716: 'achieved', 2717: 'proudly', 2718: 'marched', 2719: 'pilot', 2720: 'sporting', 2721: 'marshal'}\n"
          ]
        }
      ]
    },
    {
      "cell_type": "code",
      "source": [
        "print(tok.word_counts)"
      ],
      "metadata": {
        "colab": {
          "base_uri": "https://localhost:8080/"
        },
        "id": "BfwyRIENVlPv",
        "outputId": "8c7fb5b0-3d58-4276-fcf8-3831b8677d12"
      },
      "execution_count": 101,
      "outputs": [
        {
          "output_type": "stream",
          "name": "stdout",
          "text": [
            "OrderedDict([('call', 27), ('me', 2472), ('ishmael', 133), ('some', 758), ('years', 135), ('ago', 84), ('--', 2334), ('never', 450), ('mind', 165), ('how', 322), ('long', 375), ('precisely', 38), ('having', 144), ('little', 769), ('or', 952), ('no', 1005), ('money', 122), ('in', 5649), ('my', 1788), ('purse', 73), ('and', 9648), ('nothing', 283), ('particular', 154), ('to', 6499), ('interest', 26), ('on', 1716), ('shore', 26), ('i', 7150), ('thought', 676), ('would', 702), ('sail', 104), ('about', 1014), ('a', 10377), ('see', 416), ('the', 15540), ('watery', 26), ('part', 234), ('of', 8287), ('world', 234), ('it', 4238), ('is', 1950), ('way', 390), ('have', 806), ('driving', 26), ('off', 416), ('spleen', 26), ('regulating', 26), ('circulation', 26), ('whenever', 130), ('find', 78), ('myself', 416), ('growing', 26), ('grim', 26), ('mouth', 130), ('damp', 78), ('drizzly', 26), ('november', 26), ('soul', 78), ('involuntarily', 52), ('pausing', 52), ('before', 364), ('coffin', 104), ('warehouses', 52), ('bringing', 26), ('up', 1237), ('rear', 26), ('every', 182), ('funeral', 26), ('meet', 26), ('especially', 104), ('hypos', 26), ('get', 364), ('such', 572), ('an', 806), ('upper', 26), ('hand', 312), ('that', 3770), ('requires', 52), ('strong', 78), ('moral', 26), ('principle', 26), ('prevent', 26), ('from', 1508), ('deliberately', 26), ('stepping', 26), ('into', 988), ('street', 104), ('methodically', 26), ('knocking', 26), ('people', 52), (\"'s\", 1691), ('hats', 26), ('then', 832), ('account', 78), ('high', 130), ('time', 520), ('sea', 546), ('as', 2366), ('soon', 234), ('can', 338), ('this', 2158), ('substitute', 26), ('for', 1820), ('pistol', 26), ('ball', 26), ('with', 2392), ('philosophical', 26), ('flourish', 26), ('cato', 26), ('throws', 26), ('himself', 338), ('upon', 780), ('his', 3139), ('sword', 78), ('quietly', 78), ('take', 260), ('ship', 182), ('there', 1456), ('surprising', 26), ('if', 728), ('they', 728), ('but', 2652), ('knew', 130), ('almost', 286), ('all', 1872), ('men', 130), ('their', 390), ('degree', 78), ('other', 494), ('cherish', 26), ('very', 494), ('nearly', 52), ('same', 312), ('feelings', 26), ('towards', 260), ('ocean', 52), ('now', 1040), ('your', 442), ('insular', 26), ('city', 104), ('manhattoes', 26), ('belted', 26), ('round', 364), ('by', 962), ('wharves', 26), ('indian', 52), ('isles', 26), ('coral', 26), ('reefs', 26), ('commerce', 26), ('surrounds', 26), ('her', 156), ('surf', 26), ('right', 156), ('left', 78), ('streets', 208), ('you', 2158), ('waterward', 52), ('its', 156), ('extreme', 26), ('downtown', 26), ('battery', 52), ('where', 364), ('noble', 52), ('mole', 26), ('washed', 52), ('waves', 26), ('cooled', 26), ('breezes', 26), ('which', 572), ('few', 104), ('hours', 130), ('previous', 104), ('were', 962), ('out', 956), ('sight', 104), ('land', 208), ('look', 156), ('at', 2184), ('crowds', 52), ('water', 234), ('gazers', 26), ('circumambulate', 26), ('dreamy', 26), ('sabbath', 52), ('afternoon', 52), ('go', 494), ('corlears', 26), ('hook', 26), ('coenties', 26), ('slip', 26), ('thence', 52), ('whitehall', 26), ('northward', 26), ('what', 1118), ('do', 702), ('see?--posted', 26), ('like', 732), ('silent', 52), ('sentinels', 26), ('around', 78), ('town', 156), ('stand', 182), ('thousands', 52), ('mortal', 26), ('fixed', 78), ('reveries', 52), ('leaning', 52), ('against', 234), ('spiles', 26), ('seated', 52), ('pier', 26), ('heads', 338), ('looking', 312), ('over', 702), ('bulwarks', 52), ('ships', 78), ('china', 26), ('aloft', 52), ('rigging', 26), ('striving', 26), ('still', 364), ('better', 208), ('seaward', 26), ('peep', 26), ('these', 494), ('are', 416), ('landsmen', 26), ('week', 52), ('days', 104), ('pent', 26), ('lath', 26), ('plaster', 52), ('tied', 26), ('counters', 26), ('nailed', 26), ('benches', 26), ('clinched', 26), ('desks', 26), ('green', 130), ('fields', 26), ('gone', 52), ('here', 598), ('come', 338), ('more', 494), ('pacing', 26), ('straight', 104), ('seemingly', 26), ('bound', 52), ('dive', 26), ('strange', 182), ('will', 260), ('content', 52), ('them', 442), ('extremest', 26), ('limit', 26), ('loitering', 26), ('under', 260), ('shady', 26), ('lee', 26), ('yonder', 52), ('not', 1534), ('suffice', 26), ('must', 442), ('just', 390), ('nigh', 104), ('possibly', 26), ('without', 182), ('falling', 52), ('miles', 78), ('leagues', 26), ('inlanders', 26), ('lanes', 26), ('alleys', 26), ('avenues', 26), ('north', 52), ('east', 26), ('south', 156), ('west', 26), ('yet', 416), ('unite', 26), ('tell', 442), ('does', 156), ('magnetic', 26), ('virtue', 26), ('needles', 26), ('compasses', 26), ('those', 234), ('attract', 26), ('thither', 26), ('once', 208), ('say', 286), ('country', 78), ('lakes', 26), ('any', 364), ('path', 26), ('please', 52), ('ten', 52), ('one', 1300), ('carries', 26), ('down', 468), ('dale', 26), ('leaves', 52), ('pool', 26), ('stream', 78), ('magic', 52), ('let', 156), ('most', 468), ('absent', 26), ('minded', 26), ('be', 1716), ('plunged', 52), ('deepest', 26), ('man', 572), ('legs', 104), ('set', 156), ('feet', 182), ('going', 260), ('he', 3247), ('infallibly', 26), ('lead', 78), ('region', 26), ('should', 286), ('ever', 338), ('athirst', 26), ('great', 376), ('american', 78), ('desert', 26), ('try', 104), ('experiment', 26), ('caravan', 26), ('happen', 26), ('supplied', 26), ('metaphysical', 52), ('professor', 26), ('yes', 104), ('knows', 26), ('meditation', 26), ('wedded', 26), ('artist', 78), ('desires', 26), ('paint', 26), ('dreamiest', 26), ('shadiest', 26), ('quietest', 26), ('enchanting', 26), ('bit', 130), ('romantic', 26), ('landscape', 26), ('valley', 26), ('saco', 26), ('chief', 52), ('element', 26), ('employs', 26), ('trees', 26), ('each', 78), ('hollow', 26), ('trunk', 52), ('hermit', 26), ('crucifix', 26), ('within', 130), ('sleeps', 26), ('meadow', 52), ('sleep', 416), ('cattle', 26), ('cottage', 26), ('goes', 78), ('sleepy', 26), ('smoke', 52), ('deep', 78), ('distant', 78), ('woodlands', 26), ('winds', 78), ('mazy', 26), ('reaching', 52), ('overlapping', 26), ('spurs', 26), ('mountains', 26), ('bathed', 26), ('hill', 52), ('side', 286), ('blue', 78), ('though', 494), ('picture', 130), ('lies', 26), ('thus', 52), ('tranced', 26), ('pine', 52), ('tree', 26), ('shakes', 26), ('sighs', 52), ('shepherd', 52), ('head', 598), ('vain', 26), ('unless', 104), ('eye', 26), ('him', 1092), ('visit', 26), ('prairies', 26), ('june', 52), ('when', 650), ('scores', 52), ('wade', 26), ('knee', 26), ('among', 78), ('tiger', 26), ('lilies', 26), ('charm', 26), ('wanting?--water', 26), ('drop', 26), ('niagara', 26), ('cataract', 26), ('sand', 26), ('travel', 26), ('thousand', 52), ('why', 286), ('did', 572), ('poor', 104), ('poet', 26), ('tennessee', 26), ('suddenly', 78), ('receiving', 26), ('two', 338), ('handfuls', 26), ('silver', 26), ('deliberate', 26), ('whether', 182), ('buy', 26), ('coat', 104), ('sadly', 52), ('needed', 26), ('invest', 26), ('pedestrian', 26), ('trip', 26), ('rockaway', 26), ('beach', 26), ('robust', 52), ('healthy', 52), ('boy', 52), ('crazy', 52), ('first', 494), ('voyage', 208), ('passenger', 104), ('yourself', 156), ('feel', 78), ('mystical', 26), ('vibration', 26), ('told', 130), ('old', 754), ('persians', 26), ('hold', 52), ('holy', 52), ('greeks', 26), ('give', 208), ('separate', 26), ('deity', 26), ('own', 286), ('brother', 52), ('jove', 26), ('surely', 26), ('meaning', 78), ('deeper', 26), ('story', 130), ('narcissus', 26), ('who', 416), ('because', 182), ('could', 650), ('grasp', 26), ('tormenting', 26), ('mild', 26), ('image', 156), ('saw', 156), ('fountain', 26), ('was', 2886), ('drowned', 26), ('we', 286), ('ourselves', 52), ('rivers', 26), ('oceans', 26), ('ungraspable', 26), ('phantom', 78), ('life', 78), ('key', 26), ('am', 156), ('habit', 26), ('begin', 52), ('grow', 52), ('hazy', 26), ('eyes', 182), ('conscious', 26), ('lungs', 26), ('mean', 130), ('inferred', 52), ('needs', 52), ('rag', 26), ('something', 312), ('besides', 156), ('passengers', 78), ('sick', 26), ('quarrelsome', 26), (\"don't\", 52), ('nights', 26), ('enjoy', 26), ('themselves', 52), ('much', 442), ('general', 26), ('thing;--no', 26), ('nor', 78), ('salt', 26), ('commodore', 52), ('captain', 52), ('cook', 52), ('abandon', 26), ('glory', 52), ('distinction', 26), ('offices', 26), ('abominate', 26), ('honourable', 26), ('respectable', 26), ('toils', 26), ('trials', 26), ('tribulations', 26), ('kind', 78), ('whatsoever', 52), ('quite', 78), ('care', 78), ('taking', 104), ('barques', 26), ('brigs', 26), ('schooners', 26), ('cook,--though', 26), ('confess', 52), ('considerable', 26), ('being', 390), ('sort', 494), ('officer', 52), ('board', 78), ('somehow', 78), ('fancied', 26), ('broiling', 26), ('fowls;--though', 26), ('broiled', 78), ('judiciously', 26), ('buttered', 26), ('judgmatically', 26), ('salted', 26), ('peppered', 26), ('speak', 130), ('respectfully', 52), ('reverentially', 26), ('fowl', 26), ('than', 390), ('idolatrous', 26), ('dotings', 26), ('egyptians', 26), ('ibis', 26), ('roasted', 26), ('river', 26), ('horse', 52), ('mummies', 26), ('creatures', 26), ('huge', 52), ('bake', 26), ('houses', 52), ('pyramids', 26), ('simple', 26), ('sailor', 156), ('mast', 78), ('plumb', 26), ('forecastle', 52), ('royal', 26), ('true', 104), ('rather', 208), ('order', 130), ('make', 260), ('jump', 52), ('spar', 52), ('grasshopper', 26), ('may', 312), ('thing', 104), ('unpleasant', 26), ('enough', 338), ('touches', 26), ('sense', 78), ('honour', 26), ('particularly', 52), ('established', 26), ('family', 26), ('van', 26), ('rensselaers', 26), ('randolphs', 26), ('hardicanutes', 26), ('putting', 52), ('tar', 52), ('pot', 26), ('been', 468), ('lording', 26), ('schoolmaster', 52), ('making', 130), ('tallest', 26), ('boys', 52), ('awe', 26), ('transition', 52), ('keen', 26), ('assure', 26), ('decoction', 26), ('seneca', 26), ('stoics', 26), ('enable', 26), ('grin', 52), ('bear', 52), ('even', 130), ('wears', 26), ('hunks', 52), ('orders', 26), ('broom', 26), ('sweep', 52), ('decks', 26), ('indignity', 26), ('amount', 26), ('weighed', 52), ('scales', 26), ('new', 286), ('testament', 26), ('think', 182), ('archangel', 26), ('gabriel', 26), ('thinks', 182), ('anything', 52), ('less', 52), ('promptly', 26), ('obey', 26), ('instance', 26), ('ai', 104), (\"n't\", 624), ('slave', 26), ('well', 208), ('however', 208), ('captains', 26), ('thump', 52), ('punch', 26), ('satisfaction', 26), ('knowing', 78), ('everybody', 26), ('else', 208), ('served', 26), ('either', 78), ('physical', 26), ('point', 52), ('view', 52), ('so', 1066), ('universal', 26), ('passed', 78), ('hands', 78), ('rub', 26), ('shoulder', 26), ('blades', 26), ('again', 286), ('always', 104), ('paying', 78), ('trouble', 26), ('whereas', 26), ('pay', 78), ('single', 52), ('penny', 78), ('heard', 208), ('contrary', 26), ('difference', 52), ('between', 234), ('paid', 26), ('act', 52), ('perhaps', 130), ('uncomfortable', 52), ('infliction', 26), ('orchard', 26), ('thieves', 26), ('entailed', 26), ('us', 104), ('paid,--what', 26), ('compare', 52), ('urbane', 26), ('activity', 26), ('receives', 26), ('really', 104), ('marvellous', 104), ('considering', 26), ('earnestly', 26), ('believe', 26), ('root', 26), ('earthly', 52), ('ills', 26), ('monied', 26), ('enter', 52), ('heaven', 104), ('ah', 26), ('cheerfully', 26), ('consign', 26), ('perdition', 26), ('finally', 26), ('wholesome', 26), ('exercise', 26), ('pure', 26), ('air', 104), ('fore', 26), ('castle', 26), ('deck', 52), ('far', 104), ('prevalent', 26), ('astern', 26), ('violate', 26), ('pythagorean', 26), ('maxim', 26), ('quarter', 52), ('gets', 26), ('atmosphere', 26), ('second', 104), ('sailors', 78), ('breathes', 26), ('commonalty', 26), ('leaders', 52), ('many', 104), ('things', 130), ('suspect', 26), ('wherefore', 26), ('after', 234), ('repeatedly', 26), ('smelt', 52), ('merchant', 26), ('whaling', 234), ('invisible', 26), ('police', 26), ('fates', 52), ('has', 104), ('constant', 26), ('surveillance', 26), ('secretly', 26), ('dogs', 26), ('influences', 26), ('unaccountable', 104), ('answer', 130), ('doubtless', 52), ('formed', 52), ('grand', 104), ('programme', 26), ('providence', 26), ('drawn', 26), ('came', 286), ('brief', 26), ('interlude', 26), ('solo', 26), ('extensive', 26), ('performances', 26), ('bill', 26), ('run', 52), ('\\n\\n\\n', 52), ('\"', 3640), ('contested', 26), ('election', 26), ('presidency', 26), ('united', 26), ('states', 26), ('bloody', 26), ('battle', 26), ('affghanistan', 26), ('exactly', 78), ('stage', 52), ('managers', 26), ('put', 208), ('shabby', 52), ('others', 52), ('magnificent', 26), ('parts', 130), ('tragedies', 26), ('short', 78), ('easy', 78), ('genteel', 26), ('comedies', 26), ('jolly', 104), ('farces', 26), ('recall', 26), ('circumstances', 52), ('springs', 26), ('motives', 52), ('cunningly', 26), ('presented', 26), ('various', 52), ('disguises', 26), ('induced', 26), ('performing', 26), ('cajoling', 26), ('delusion', 26), ('choice', 26), ('resulting', 26), ('unbiased', 26), ('freewill', 26), ('discriminating', 26), ('judgment', 26), ('overwhelming', 26), ('idea', 182), ('whale', 260), ('portentous', 78), ('mysterious', 52), ('monster', 26), ('roused', 26), ('curiosity', 52), ('wild', 130), ('seas', 156), ('rolled', 156), ('island', 78), ('bulk', 26), ('undeliverable', 26), ('nameless', 78), ('perils', 26), ('attending', 26), ('marvels', 26), ('patagonian', 26), ('sights', 26), ('sounds', 78), ('helped', 26), ('sway', 26), ('wish', 26), ('inducements', 26), ('tormented', 52), ('everlasting', 52), ('itch', 26), ('remote', 26), ('love', 26), ('forbidden', 26), ('barbarous', 26), ('coasts', 26), ('ignoring', 26), ('good', 442), ('quick', 26), ('perceive', 26), ('horror', 26), ('social', 26), ('since', 78), ('friendly', 26), ('terms', 26), ('inmates', 26), ('place', 390), ('lodges', 26), ('reason', 130), ('welcome', 26), ('flood', 26), ('gates', 26), ('wonder', 52), ('swung', 26), ('open', 104), ('conceits', 26), ('swayed', 26), ('purpose', 52), ('floated', 52), ('inmost', 26), ('endless', 26), ('processions', 26), ('mid', 26), ('hooded', 26), ('snow', 78), ('stuffed', 52), ('shirt', 104), ('carpet', 26), ('bag', 182), ('tucked', 26), ('arm', 286), ('started', 26), ('cape', 104), ('horn', 52), ('pacific', 26), ('quitting', 26), ('manhatto', 26), ('duly', 26), ('arrived', 52), ('bedford', 104), ('saturday', 78), ('night', 624), ('december', 26), ('disappointed', 26), ('learning', 26), ('packet', 26), ('nantucket', 182), ('had', 858), ('already', 26), ('sailed', 26), ('offer', 52), ('till', 156), ('following', 52), ('monday', 26), ('young', 130), ('candidates', 26), ('pains', 26), ('penalties', 26), ('stop', 208), ('embark', 52), ('related', 26), ('doing', 26), ('made', 338), ('craft', 130), ('fine', 104), ('boisterous', 26), ('everything', 26), ('connected', 26), ('famous', 26), ('amazingly', 26), ('pleased', 52), ('late', 182), ('gradually', 26), ('monopolising', 26), ('business', 130), ('matter', 78), ('behind', 26), ('original', 52), ('tyre', 26), ('carthage;--the', 26), ('dead', 130), ('stranded', 52), ('aboriginal', 26), ('whalemen', 26), ('red', 78), ('sally', 26), ('canoes', 26), ('chase', 26), ('leviathan', 52), ('too', 364), ('adventurous', 26), ('sloop', 26), ('forth', 26), ('partly', 78), ('laden', 26), ('imported', 26), ('cobblestones', 26), ('throw', 26), ('whales', 52), ('discover', 26), ('risk', 26), ('harpoon', 135), ('bowsprit', 26), ('day', 156), ('another', 130), ('ere', 78), ('destined', 26), ('port', 26), ('became', 78), ('concernment', 26), ('eat', 26), ('meanwhile', 78), ('dubious', 26), ('nay', 52), ('dark', 208), ('dismal', 52), ('bitingly', 26), ('cold', 182), ('cheerless', 26), ('anxious', 26), ('grapnels', 26), ('sounded', 26), ('pocket', 78), ('only', 364), ('brought', 26), ('pieces', 26), ('silver,--so', 26), ('wherever', 52), ('said', 494), ('stood', 260), ('middle', 130), ('dreary', 52), ('shouldering', 26), ('comparing', 26), ('gloom', 26), ('darkness', 78), ('wisdom', 26), ('conclude', 26), ('lodge', 26), ('dear', 26), ('sure', 130), ('inquire', 26), ('price', 26), ('halting', 26), ('steps', 26), ('paced', 26), ('sign', 156), ('crossed', 52), ('harpoons\"--but', 26), ('looked', 156), ('expensive', 52), ('further', 104), ('bright', 52), ('windows', 52), ('fish', 78), ('inn', 78), ('fervent', 26), ('rays', 26), ('seemed', 416), ('melted', 26), ('packed', 52), ('ice', 104), ('house', 286), ('everywhere', 26), ('congealed', 26), ('frost', 104), ('lay', 234), ('inches', 52), ('thick', 52), ('hard', 156), ('asphaltic', 26), ('pavement,--rather', 26), ('weary', 26), ('struck', 26), ('foot', 104), ('flinty', 26), ('projections', 26), ('remorseless', 26), ('service', 26), ('soles', 26), ('boots', 260), ('miserable', 26), ('plight', 26), ('moment', 156), ('watch', 78), ('broad', 78), ('glare', 26), ('hear', 52), ('tinkling', 52), ('glasses', 52), ('last', 494), ('away', 286), ('door', 364), ('patched', 26), ('stopping', 26), ('went', 208), ('instinct', 26), ('followed', 26), ('took', 234), ('cheapest', 26), ('cheeriest', 26), ('inns', 26), ('blocks', 26), ('blackness', 52), ('candle', 130), ('moving', 52), ('tomb', 26), ('hour', 52), ('proved', 52), ('deserted', 26), ('presently', 130), ('smoky', 26), ('light', 416), ('proceeding', 26), ('low', 130), ('wide', 104), ('building', 26), ('invitingly', 26), ('careless', 26), ('meant', 52), ('uses', 26), ('public', 52), ('entering', 78), ('stumble', 26), ('ash', 26), ('box', 52), ('porch', 26), ('ha', 78), ('flying', 52), ('particles', 26), ('choked', 26), ('ashes', 78), ('destroyed', 26), ('gomorrah', 26), ('harpoons', 52), ('fish?\"--this', 26), ('trap', 52), ('picked', 26), ('hearing', 26), ('loud', 52), ('voice', 52), ('pushed', 26), ('opened', 78), ('interior', 26), ('black', 208), ('parliament', 26), ('sitting', 52), ('tophet', 26), ('hundred', 26), ('faces', 26), ('turned', 130), ('rows', 26), ('peer', 26), ('beyond', 52), ('angel', 26), ('doom', 26), ('beating', 26), ('book', 26), ('pulpit', 26), ('negro', 52), ('church', 26), ('preacher', 26), ('text', 26), ('weeping', 26), ('wailing', 26), ('teeth', 130), ('gnashing', 26), ('muttered', 26), ('backing', 26), ('wretched', 26), ('entertainment', 26), (\"'\", 312), ('dim', 130), ('docks', 26), ('forlorn', 26), ('creaking', 52), ('swinging', 52), ('white', 104), ('painting', 52), ('faintly', 26), ('representing', 52), ('tall', 104), ('jet', 26), ('misty', 26), ('spray', 26), ('words', 26), ('underneath--\"the', 26), ('spouter', 78), ('inn:--peter', 26), ('coffin?--spouter?--rather', 26), ('ominous', 26), ('connexion', 52), ('i.', 104), ('common', 26), ('name', 78), ('suppose', 78), ('peter', 52), ('emigrant', 26), ('quiet', 78), ('dilapidated', 26), ('wooden', 104), ('itself', 52), ('might', 286), ('carted', 52), ('ruins', 26), ('burnt', 52), ('district', 26), ('poverty', 26), ('stricken', 26), ('creak', 26), ('spot', 52), ('cheap', 26), ('lodgings', 26), ('best', 78), ('pea', 26), ('coffee', 26), ('queer', 52), ('gable', 52), ('ended', 52), ('palsied', 26), ('sharp', 52), ('bleak', 26), ('corner', 156), ('tempestuous', 78), ('wind', 52), ('euroclydon', 130), ('kept', 130), ('worse', 104), ('howling', 52), ('paul', 26), ('tossed', 26), ('nevertheless', 52), ('mighty', 26), ('pleasant', 26), ('zephyr', 26), ('doors', 26), ('hob', 26), ('toasting', 26), ('bed', 1066), ('judging', 26), ('called', 52), ('says', 78), ('writer', 26), ('whose', 26), ('works', 26), ('possess', 26), ('copy', 26), ('extant--\"it', 26), ('maketh', 26), ('thou', 78), ('lookest', 26), ('glass', 130), ('window', 208), ('outside', 52), ('observest', 26), ('sashless', 26), ('both', 78), ('sides', 26), ('wight', 26), ('death', 104), ('glazier', 26), ('passage', 52), ('occurred', 78), ('letter', 26), ('reasonest', 26), ('body', 52), ('mine', 104), ('pity', 26), ('chinks', 26), ('crannies', 26), ('thrust', 26), ('lint', 26), ('improvements', 26), ('universe', 26), ('finished', 26), ('copestone', 26), ('chips', 26), ('million', 26), ('lazarus', 104), ('chattering', 26), ('curbstone', 52), ('pillow', 26), ('shaking', 26), ('tatters', 26), ('shiverings', 26), ('plug', 26), ('ears', 26), ('rags', 26), ('corn', 52), ('cob', 26), ('keep', 104), ('dives', 78), ('silken', 26), ('wrapper--(he', 26), ('redder', 26), ('afterwards', 130), ('pooh', 52), ('frosty', 26), ('orion', 26), ('glitters', 26), ('northern', 52), ('lights', 52), ('talk', 26), ('oriental', 26), ('summer', 52), ('climes', 26), ('conservatories', 26), ('privilege', 26), ('coals', 26), ('warm', 26), ('holding', 78), ('sumatra', 26), ('lengthwise', 52), ('along', 104), ('line', 26), ('equator', 26), ('yea', 26), ('ye', 260), ('gods', 52), ('fiery', 26), ('pit', 26), ('lie', 52), ('wonderful', 26), ('iceberg', 26), ('moored', 26), ('moluccas', 26), ('lives', 26), ('czar', 26), ('palace', 26), ('frozen', 78), ('president', 26), ('temperance', 26), ('society', 26), ('drinks', 26), ('tepid', 26), ('tears', 26), ('orphans', 26), ('blubbering', 26), ('plenty', 52), ('scrape', 26), ('our', 182), ('frosted', 26), ('found', 182), ('straggling', 26), ('entry', 156), ('fashioned', 26), ('wainscots', 26), ('reminding', 26), ('condemned', 26), ('hung', 104), ('large', 130), ('oilpainting', 26), ('thoroughly', 26), ('besmoked', 26), ('defaced', 26), ('unequal', 26), ('crosslights', 26), ('viewed', 26), ('diligent', 26), ('study', 52), ('series', 52), ('systematic', 26), ('visits', 26), ('careful', 26), ('inquiry', 26), ('neighbors', 26), ('arrive', 52), ('understanding', 26), ('masses', 26), ('shades', 26), ('shadows', 52), ('ambitious', 26), ('england', 26), ('hags', 26), ('endeavored', 26), ('delineate', 26), ('chaos', 26), ('bewitched', 26), ('dint', 52), ('earnest', 26), ('contemplation', 26), ('oft', 26), ('repeated', 26), ('ponderings', 26), ('throwing', 104), ('back', 260), ('conclusion', 52), ('altogether', 78), ('unwarranted', 26), ('puzzled', 26), ('confounded', 52), ('limber', 52), ('mass', 26), ('hovering', 26), ('centre', 104), ('three', 130), ('perpendicular', 26), ('lines', 26), ('floating', 26), ('yeast', 26), ('boggy', 26), ('soggy', 26), ('squitchy', 26), ('truly', 52), ('drive', 52), ('nervous', 26), ('distracted', 26), ('indefinite', 26), ('half', 234), ('attained', 26), ('unimaginable', 52), ('sublimity', 26), ('fairly', 26), ('froze', 26), ('oath', 26), ('anon', 26), ('alas', 26), ('deceptive', 26), ('dart', 26), ('through.--it', 26), ('midnight', 52), ('gale.--it', 26), ('unnatural', 52), ('combat', 26), ('four', 156), ('primal', 26), ('elements.--it', 26), ('blasted', 26), ('heath.--it', 26), ('hyperborean', 26), ('winter', 26), ('scene.--it', 26), ('breaking', 52), ('icebound', 26), ('fancies', 26), ('yielded', 26), ('midst', 26), ('rest', 104), ('plain', 78), ('faint', 26), ('resemblance', 26), ('gigantic', 26), ('fact', 104), ('design', 52), ('final', 26), ('theory', 26), ('based', 26), ('aggregated', 26), ('opinions', 26), ('aged', 26), ('persons', 26), ('whom', 78), ('conversed', 26), ('subject', 26), ('represents', 26), ('horner', 26), ('hurricane', 26), ('foundered', 26), ('weltering', 26), ('dismantled', 26), ('masts', 26), ('alone', 26), ('visible', 26), ('exasperated', 26), ('purposing', 26), ('spring', 26), ('clean', 78), ('enormous', 26), ('impaling', 26), ('opposite', 52), ('wall', 156), ('heathenish', 26), ('array', 26), ('monstrous', 52), ('clubs', 26), ('spears', 26), ('thickly', 26), ('glittering', 26), ('resembling', 26), ('ivory', 26), ('saws', 26), ('tufted', 26), ('knots', 52), ('human', 78), ('hair', 104), ('sickle', 26), ('shaped', 26), ('vast', 52), ('handle', 52), ('sweeping', 26), ('segment', 26), ('mown', 26), ('grass', 26), ('armed', 26), ('mower', 26), ('shuddered', 26), ('gazed', 26), ('wondered', 52), ('cannibal', 208), ('savage', 156), ('harvesting', 26), ('hacking', 26), ('horrifying', 26), ('implement', 26), ('mixed', 52), ('rusty', 26), ('lances', 26), ('broken', 104), ('deformed', 52), ('storied', 26), ('weapons', 26), ('lance', 26), ('wildly', 26), ('elbowed', 26), ('fifty', 26), ('nathan', 26), ('swain', 26), ('kill', 104), ('fifteen', 26), ('sunrise', 26), ('sunset', 26), ('corkscrew', 26), ('flung', 52), ('javan', 26), ('slain', 26), ('blanco', 26), ('iron', 52), ('entered', 78), ('tail', 26), ('restless', 26), ('needle', 26), ('sojourning', 26), ('travelled', 26), ('full', 182), ('forty', 26), ('imbedded', 26), ('hump', 26), ('crossing', 26), ('dusky', 26), ('through', 104), ('yon', 26), ('arched', 52), ('cut', 52), ('times', 52), ('central', 26), ('chimney', 104), ('fireplaces', 26), ('room', 667), ('duskier', 26), ('ponderous', 26), ('beams', 26), ('above', 26), ('wrinkled', 78), ('planks', 26), ('beneath', 52), ('fancy', 104), ('trod', 26), ('cockpits', 26), ('anchored', 26), ('ark', 26), ('rocked', 26), ('furiously', 26), ('shelf', 78), ('table', 156), ('covered', 52), ('cracked', 26), ('cases', 26), ('filled', 26), ('dusty', 26), ('rarities', 26), ('gathered', 52), ('remotest', 26), ('nooks', 26), ('projecting', 26), ('angle', 26), ('stands', 52), ('den', 26), ('bar', 104), ('rude', 52), ('attempt', 26), ('bone', 52), ('jaw', 26), ('coach', 26), ('shelves', 26), ('ranged', 26), ('decanters', 26), ('bottles', 26), ('flasks', 26), ('jaws', 26), ('swift', 26), ('destruction', 26), ('cursed', 26), ('jonah', 78), ('indeed', 156), ('bustles', 26), ('withered', 26), ('dearly', 26), ('sells', 26), ('deliriums', 26), ('abominable', 52), ('tumblers', 26), ('pours', 26), ('poison', 26), ('cylinders', 26), ('villanous', 26), ('goggling', 26), ('deceitfully', 26), ('tapered', 26), ('downwards', 26), ('cheating', 26), ('bottom', 26), ('parallel', 26), ('meridians', 26), ('rudely', 26), ('pecked', 26), ('surround', 26), ('footpads', 26), ('goblets', 26), ('fill', 26), ('mark', 26), ('charge', 26), ('measure', 52), ('gulp', 26), ('shilling', 26), ('number', 26), ('seamen', 52), ('examining', 26), ('divers', 26), ('specimens', 26), ('skrimshander', 52), ('sought', 52), ('landlord', 702), ('telling', 130), ('desired', 26), ('accommodated', 26), ('received', 26), ('unoccupied', 26), ('avast', 26), ('added', 52), ('tapping', 26), ('forehead', 52), ('haint', 26), ('objections', 52), ('sharing', 26), ('harpooneer', 884), ('blanket', 78), (\"s'pose\", 26), (\"goin'\", 78), ('whalin', 26), (\"'d\", 52), ('used', 52), ('liked', 26), ('depend', 52), ('decidedly', 26), ('objectionable', 26), ('wander', 26), ('bitter', 78), ('decent', 52), ('seat', 26), ('supper?--you', 26), ('want', 52), ('supper', 78), (\"supper'll\", 26), ('ready', 52), ('directly', 26), ('sat', 78), ('settle', 78), ('carved', 26), ('bench', 156), ('end', 26), ('ruminating', 26), ('adorning', 26), ('jack', 26), ('knife', 26), ('stooping', 26), ('diligently', 26), ('working', 52), ('space', 52), ('trying', 104), ('headway', 26), ('five', 26), ('summoned', 26), ('meal', 26), ('adjoining', 26), ('iceland', 26), ('fire', 208), ('afford', 26), ('tallow', 26), ('candles', 26), ('winding', 26), ('sheet', 26), ('fain', 26), ('button', 26), ('monkey', 62), ('jackets', 26), ('lips', 52), ('cups', 26), ('scalding', 26), ('tea', 26), ('fingers', 52), ('fare', 52), ('substantial', 26), ('meat', 26), ('potatoes', 26), ('dumplings', 104), ('heavens', 104), ('fellow', 52), ('addressed', 26), ('direful', 26), ('manner', 104), (\"'ll\", 260), ('nightmare', 52), ('sartainty', 26), ('whispered', 26), ('nt', 52), ('oh', 26), ('diabolically', 26), ('funny', 26), ('complexioned', 52), ('chap', 78), ('eats', 52), ('steaks', 26), ('likes', 26), (\"'em\", 52), ('rare', 26), ('devil', 104), ('afore', 52), ('help', 78), ('began', 234), ('suspicious', 26), ('rate', 26), ('together', 104), ('undress', 26), ('company', 26), ('resolved', 52), ('spend', 78), ('evening', 26), ('looker', 26), ('rioting', 26), ('noise', 52), ('starting', 26), ('cried', 26), ('grampus', 26), ('crew', 26), ('seed', 26), ('reported', 26), ('offing', 52), ('morning', 182), ('hurrah', 26), ('latest', 26), ('news', 26), ('feegees', 26), ('tramping', 26), ('mariners', 26), ('enveloped', 26), ('shaggy', 52), ('coats', 26), ('muffled', 26), ('woollen', 52), ('comforters', 26), ('bedarned', 26), ('ragged', 26), ('beards', 26), ('stiff', 52), ('icicles', 26), ('eruption', 26), ('bears', 26), ('labrador', 52), ('landed', 78), ('boat', 26), ('wake', 52), ('officiating', 26), ('poured', 26), ('brimmers', 26), ('complained', 26), ('bad', 52), ('pitch', 26), ('potion', 26), ('gin', 26), ('molasses', 26), ('swore', 26), ('sovereign', 26), ('cure', 26), ('colds', 26), ('catarrhs', 26), ('standing', 78), ('caught', 26), ('coast', 26), ('weather', 26), ('liquor', 26), ('mounted', 52), ('generally', 52), ('arrantest', 26), ('topers', 26), ('newly', 26), ('capering', 26), ('obstreperously', 26), ('observed', 26), ('held', 78), ('somewhat', 78), ('aloof', 26), ('desirous', 26), ('spoil', 26), ('hilarity', 26), ('shipmates', 52), ('sober', 78), ('face', 234), ('whole', 78), ('refrained', 26), ('interested', 26), ('ordained', 26), ('become', 52), ('shipmate', 26), ('sleeping', 182), ('partner', 26), ('narrative', 26), ('concerned', 26), ('venture', 26), ('description', 26), ('six', 26), ('height', 52), ('shoulders', 26), ('chest', 156), ('coffer', 26), ('dam', 78), ('seldom', 26), ('seen', 104), ('brawn', 26), ('deeply', 26), ('brown', 78), ('dazzling', 26), ('contrast', 26), ('while', 156), ('reminiscences', 26), ('seem', 52), ('joy', 26), ('announced', 26), ('southerner', 26), ('stature', 26), ('mountaineers', 26), ('alleghanian', 26), ('ridge', 26), ('virginia', 26), ('revelry', 26), ('companions', 26), ('slipped', 26), ('unobserved', 26), ('comrade', 26), ('minutes', 26), ('missed', 26), ('seems', 26), ('favourite', 26), ('raised', 26), ('cry', 26), ('bulkington', 78), ('darted', 26), ('pursuit', 26), ('nine', 26), (\"o'clock\", 78), ('seeming', 26), ('supernaturally', 26), ('orgies', 26), ('congratulate', 26), ('plan', 52), ('entrance', 26), ('prefers', 26), ('deal', 104), ('know', 104), ('private', 52), ('comes', 26), ('unknown', 52), ('stranger', 156), ('indefinitely', 26), ('multiply', 26), ('anybody', 26), ('bachelor', 26), ('kings', 26), ('ashore', 26), ('apartment', 52), ('hammock', 52), ('cover', 26), ('skin', 104), ('pondered', 26), ('abominated', 26), ('fair', 26), ('presume', 26), ('linen', 52), ('case', 26), ('tidiest', 26), ('certainly', 26), ('none', 78), ('finest', 26), ('twitch', 26), ('getting', 130), ('ought', 26), ('home', 52), ('bedwards', 26), ('tumble', 26), ('vile', 26), ('hole', 52), ('coming', 78), (\"'ve\", 78), ('changed', 26), ('harpooneer.--i', 26), ('sha', 26), (\"'m\", 26), ('sorry', 26), ('ca', 104), ('spare', 26), ('tablecloth', 26), ('mattress', 52), ('plaguy', 26), ('rough', 26), ('here\"--feeling', 26), ('notches', 26), ('wait', 78), ('got', 182), ('carpenter', 26), ('plane', 78), ('snug', 26), ('saying', 78), ('procured', 26), ('silk', 26), ('handkerchief', 26), ('dusting', 26), ('vigorously', 26), ('planing', 52), ('grinning', 78), ('ape', 26), ('shavings', 104), ('flew', 26), ('bump', 26), ('indestructible', 26), ('knot', 52), ('near', 52), ('spraining', 26), ('wrist', 26), ('sake', 52), ('quit', 26), ('soft', 26), ('suit', 26), ('eider', 26), ('plank', 26), ('gathering', 26), ('stove', 26), ('mended', 26), ('chair', 52), ('narrow', 52), ('higher', 26), ('planed', 26), ('yoking', 26), ('placed', 78), ('clear', 26), ('leaving', 52), ('interval', 52), ('draught', 26), ('sill', 26), ('current', 26), ('rickety', 26), ('met', 52), ('small', 130), ('whirlwinds', 26), ('immediate', 26), ('vicinity', 26), ('fetch', 26), ('steal', 26), ('march', 26), ('bolt', 26), ('inside', 52), ('wakened', 26), ('violent', 52), ('knockings', 26), ('thoughts', 26), ('dismissed', 26), ('next', 130), ('popped', 26), ('knock', 26), ('seeing', 130), ('possible', 156), ('chance', 26), ('spending', 26), ('sufferable', 26), ('person', 26), ('cherishing', 26), ('unwarrantable', 26), ('prejudices', 26), ('awhile', 26), ('dropping', 26), ('bedfellows', 26), ('boarders', 26), ('ones', 52), ('twos', 26), ('threes', 26), ('twelve', 26), ('chuckled', 26), ('lean', 26), ('chuckle', 26), ('mightily', 26), ('tickled', 26), ('comprehension', 52), ('answered', 26), ('early', 26), ('bird', 52), ('airley', 52), ('rise', 26), ('catches', 26), ('worm', 26), ('peddling', 104), ('airth', 52), ('keeps', 26), ('sell', 130), ('head?--what', 26), ('bamboozingly', 26), ('towering', 26), ('rage', 26), ('pretend', 26), ('actually', 26), ('engaged', 52), ('blessed', 26), ('sunday', 104), ('market', 26), ('overstocked', 26), ('shouted', 78), ('calmly', 26), ('spinning', 26), ('yarn', 26), (\"i'm\", 26), ('stick', 26), ('whittling', 52), ('toothpick', 26), ('rayther', 26), ('guess', 52), ('done', 52), ('hears', 26), ('slanderin', 26), ('break', 52), ('passion', 26), ('farrago', 26), ('broke', 52), (\"a'ready\", 26), ('i--\"broke', 26), ('sartain', 26), ('cool', 26), ('mt.', 26), ('hecla', 26), ('storm--\"landlord', 26), ('understand', 52), ('delay', 26), ('belongs', 26), ('certain', 52), ('persist', 26), ('mystifying', 26), ('exasperating', 26), ('stories', 26), ('tending', 26), ('beget', 26), ('feeling', 156), ('bedfellow', 78), ('intimate', 26), ('confidential', 26), ('highest', 26), ('demand', 52), ('shall', 26), ('respects', 26), ('safe', 26), ('unsay', 26), ('selling', 52), ('evidence', 26), ('stark', 26), ('mad', 26), ('madman', 26), ('sir', 52), ('induce', 26), ('knowingly', 26), ('thereby', 26), ('render', 26), ('liable', 26), ('criminal', 26), ('prosecution', 26), ('fetching', 26), ('breath', 26), ('purty', 26), ('sarmon', 26), ('rips', 26), ('tellin', 26), ('bought', 26), ('lot', 26), ('balmed', 26), ('zealand', 78), ('curios', 26), ('sold', 26), ('cause', 26), ('morrow', 26), ('sellin', 26), ('folks', 26), ('churches', 26), ('wanted', 26), ('stopped', 26), ('strung', 26), ('string', 52), ('inions', 26), ('cleared', 26), ('otherwise', 26), ('mystery', 52), ('showed', 52), ('fooling', 26), ('stayed', 26), ('idolators', 26), ('dangerous', 52), ('pays', 26), (\"reg'lar\", 26), ('rejoinder', 26), ('dreadful', 26), ('turning', 26), ('flukes', 52), ('nice', 26), ('sal', 78), ('slept', 52), ('spliced', 26), ('kick', 26), ('almighty', 26), ('big', 52), ('sam', 52), ('johnny', 26), ('dreaming', 26), ('sprawling', 26), ('pitched', 26), ('floor', 156), ('arter', 26), ('glim', 26), ('jiffy', 26), ('lighted', 52), ('offering', 26), ('irresolute', 26), ('clock', 26), ('exclaimed', 26), ('vum', 26), ('wo', 52), ('anchor', 26), ('somewhere', 26), (\"won't\", 26), ('considered', 26), ('stairs', 52), ('ushered', 26), ('clam', 26), ('furnished', 26), ('prodigious', 26), ('harpooneers', 26), ('abreast', 26), ('placing', 52), ('double', 52), ('duty', 26), ('wash', 78), ('comfortable', 26), ('eyeing', 52), ('disappeared', 26), ('folding', 26), ('counterpane', 104), ('stooped', 26), ('elegant', 26), ('scrutiny', 26), ('tolerably', 26), ('glanced', 26), ('bedstead', 26), ('furniture', 26), ('belonging', 52), ('walls', 26), ('papered', 52), ('fireboard', 26), ('striking', 26), ('properly', 26), ('lashed', 26), ('thrown', 78), ('also', 26), ('seaman', 26), ('containing', 26), ('wardrobe', 26), ('doubt', 26), ('lieu', 26), ('likewise', 26), ('parcel', 52), ('outlandish', 26), ('hooks', 26), ('close', 26), ('felt', 130), ('tried', 52), ('satisfactory', 52), ('concerning', 52), ('mat', 104), ('ornamented', 26), ('edges', 52), ('tags', 26), ('stained', 26), ('porcupine', 26), ('quills', 26), ('moccasin', 26), ('slit', 26), ('ponchos', 26), ('parade', 26), ('christian', 104), ('guise', 26), ('hamper', 26), ('uncommonly', 26), ('wearing', 26), ('rainy', 26), ('stuck', 52), ('tore', 26), ('hurry', 26), ('gave', 52), ('kink', 26), ('neck', 52), ('commenced', 104), ('thinking', 104), ('jacket', 35), ('sleeves', 52), ('beginning', 26), ('undressed', 52), ('remembering', 52), ('ado', 26), ('jumped', 52), ('pantaloons', 52), ('blowing', 52), ('tumbled', 26), ('commended', 26), ('cobs', 26), ('crockery', 26), ('slid', 26), ('doze', 52), ('pretty', 52), ('nod', 26), ('heavy', 52), ('footfall', 26), ('glimmer', 26), ('lord', 26), ('save', 52), ('infernal', 52), ('peddler', 52), ('perfectly', 26), ('word', 26), ('spoken', 26), ('identical', 26), ('knotted', 26), ('cords', 26), ('spoke', 26), ('eagerness', 26), ('averted', 26), ('employed', 26), ('unlacing', 26), ('accomplished', 26), ('purplish', 78), ('yellow', 52), ('colour', 52), ('blackish', 26), ('squares', 156), ('terrible', 26), ('fight', 26), ('dreadfully', 52), ('surgeon', 26), ('chanced', 26), ('turn', 78), ('plainly', 26), ('sticking', 52), ('plasters', 26), ('cheeks', 52), ('stains', 26), ('inkling', 26), ('truth', 52), ('remembered', 52), ('whaleman', 52), ('cannibals', 26), ('tattooed', 52), ('concluded', 52), ('course', 26), ('voyages', 26), ('similar', 104), ('adventure', 26), ('honest', 26), ('unearthly', 26), ('complexion', 26), ('lying', 52), ('completely', 78), ('independent', 26), ('tattooing', 26), ('tropical', 26), ('tanning', 52), ('hot', 52), ('sun', 130), ('produced', 52), ('extraordinary', 26), ('effects', 26), ('ideas', 26), ('passing', 26), ('lightning', 26), ('noticed', 26), ('difficulty', 26), ('fumbling', 26), ('pulled', 26), ('tomahawk', 260), ('seal', 26), ('wallet', 26), ('ghastly', 26), ('crammed', 26), ('hat', 156), ('beaver', 52), ('singing', 52), ('fresh', 26), ('surprise', 26), ('least', 26), ('scalp', 26), ('twisted', 26), ('bald', 26), ('mildewed', 26), ('skull', 26), ('bolted', 52), ('quicker', 26), ('dinner', 26), ('slipping', 26), ('coward', 26), ('purple', 26), ('rascal', 26), ('ignorance', 26), ('parent', 26), ('fear', 78), ('nonplussed', 26), ('afraid', 104), ('game', 26), ('address', 26), ('inexplicable', 26), ('continued', 26), ('undressing', 26), ('arms', 52), ('live', 26), ('checkered', 26), ('thirty', 26), ('war', 26), ('escaped', 26), ('marked', 26), ('frogs', 26), ('running', 52), ('trunks', 26), ('palms', 26), ('shipped', 26), ('aboard', 26), ('quaked', 26), ('brothers', 26), ('shuddering', 26), ('fascinated', 26), ('attention', 26), ('convinced', 26), ('heathen', 26), ('grego', 78), ('wrapall', 26), ('dreadnaught', 26), ('previously', 26), ('fumbled', 26), ('pockets', 26), ('length', 104), ('curious', 52), ('hunch', 52), ('congo', 52), ('baby', 78), ('embalmed', 26), ('manikin', 26), ('real', 26), ('preserved', 26), ('glistened', 26), ('polished', 26), ('ebony', 26), ('idol', 104), ('empty', 26), ('removing', 26), ('sets', 26), ('backed', 26), ('tenpin', 26), ('andirons', 26), ('jambs', 26), ('bricks', 26), ('sooty', 26), ('appropriate', 26), ('shrine', 26), ('chapel', 26), ('screwed', 26), ('hidden', 26), ('ill', 52), ('ease', 26), ('meantime', 26), ('follow', 26), ('takes', 52), ('handful', 26), ('places', 26), ('carefully', 26), ('laying', 26), ('biscuit', 52), ('top', 52), ('applying', 26), ('flame', 26), ('lamp', 52), ('kindled', 26), ('sacrificial', 26), ('blaze', 26), ('hasty', 26), ('snatches', 26), ('hastier', 26), ('withdrawals', 26), ('whereby', 26), ('scorching', 26), ('badly', 26), ('succeeded', 52), ('drawing', 26), ('heat', 26), ('polite', 52), ('dry', 26), ('moved', 26), ('antics', 26), ('accompanied', 26), ('guttural', 52), ('noises', 26), ('devotee', 26), ('praying', 26), ('sing', 26), ('song', 26), ('pagan', 52), ('psalmody', 26), ('during', 26), ('twitched', 26), ('extinguishing', 26), ('unceremoniously', 26), ('bagged', 26), ('carelessly', 26), ('sportsman', 26), ('bagging', 26), ('woodcock', 26), ('proceedings', 26), ('increased', 26), ('uncomfortableness', 26), ('exhibiting', 26), ('symptoms', 26), ('concluding', 26), ('operations', 26), ('jumping', 26), ('spell', 52), ('spent', 26), ('deliberating', 26), ('fatal', 26), ('examined', 26), ('instant', 26), ('puffed', 26), ('clouds', 26), ('tobacco', 52), ('extinguished', 26), ('sprang', 26), ('sang', 26), ('giving', 26), ('sudden', 26), ('grunt', 52), ('astonishment', 26), ('stammering', 26), ('conjured', 26), ('whoever', 26), ('whatever', 52), ('responses', 26), ('satisfied', 26), ('comprehended', 26), ('e', 104), ('debel', 26), ('you?\"--he', 26), ('said--\"you', 26), ('e.', 26), ('flourishing', 26), ('god', 26), ('angels', 26), ('ee', 52), ('growled', 26), ('horrid', 52), ('flourishings', 26), ('scattered', 26), ('thank', 26), ('leaping', 26), ('ran', 26), ('queequeg', 390), ('harm', 26), (\"know'd\", 26), (\"it;--didn't\", 26), ('peddlin', 26), ('town?--but', 26), ('sabbee', 104), ('sleepe', 26), ('plenty\"--grunted', 26), ('puffing', 26), ('pipe', 52), ('gettee', 26), ('motioning', 26), ('clothes', 26), ('civil', 26), ('charitable', 26), ('tattooings', 26), ('comely', 26), ('fuss', 26), ('drunken', 26), ('stash', 26), ('smoking', 52), ('insured', 26), ('complied', 52), ('politely', 26), ('motioned', 26), ('rolling', 26), ('touch', 26), ('leg', 26), ('waking', 104), ('daylight', 26), ('loving', 26), ('affectionate', 26), ('wife', 26), ('patchwork', 52), ('odd', 26), ('parti', 26), ('coloured', 26), ('triangles', 26), ('interminable', 26), ('cretan', 26), ('labyrinth', 26), ('figure', 52), ('precise', 26), ('shade', 52), ('owing', 26), ('keeping', 26), ('unmethodically', 26), ('irregularly', 26), ('strip', 26), ('quilt', 52), ('awoke', 26), ('hardly', 26), ('blended', 26), ('hues', 26), ('weight', 26), ('pressure', 26), ('hugging', 52), ('sensations', 52), ('explain', 52), ('child', 26), ('remember', 52), ('circumstance', 52), ('befell', 26), ('reality', 52), ('dream', 26), ('entirely', 26), ('cutting', 26), ('caper', 26), ('crawl', 26), ('stepmother', 52), ('whipping', 26), ('sending', 26), ('supperless,--my', 26), ('mother', 26), ('dragged', 26), ('21st', 26), ('longest', 26), ('year', 26), ('hemisphere', 26), ('third', 26), ('slowly', 78), ('sigh', 26), ('sheets', 26), ('dismally', 26), ('calculating', 26), ('sixteen', 52), ('entire', 26), ('elapse', 26), ('hope', 26), ('resurrection', 26), ('ached', 26), ('shining', 26), ('rattling', 26), ('coaches', 26), ('sound', 26), ('gay', 26), ('voices', 26), ('dressed', 26), ('softly', 26), ('stockinged', 26), ('threw', 26), ('beseeching', 26), ('favour', 26), ('slippering', 26), ('misbehaviour', 26), ('condemning', 26), ('abed', 52), ('unendurable', 26), ('she', 26), ('conscientious', 26), ('stepmothers', 26), ('several', 26), ('awake', 26), ('greatest', 26), ('subsequent', 26), ('misfortunes', 26), ('fallen', 26), ('troubled', 52), ('steeped', 26), ('dreams', 26), ('lit', 26), ('wrapped', 42), ('outer', 26), ('instantly', 26), ('shock', 26), ('frame', 26), ('supernatural', 52), ('form', 26), ('belonged', 26), ('closely', 26), ('ages', 52), ('piled', 26), ('awful', 52), ('fears', 26), ('daring', 26), ('drag', 26), ('stir', 26), ('inch', 26), ('consciousness', 52), ('glided', 26), ('shudderingly', 26), ('weeks', 26), ('months', 26), ('lost', 26), ('confounding', 26), ('attempts', 26), ('often', 26), ('puzzle', 26), ('strangeness', 26), ('experienced', 26), ('past', 26), ('events', 26), ('soberly', 26), ('recurred', 26), ('alive', 26), ('comical', 26), ('predicament', 26), ('move', 26), ('unlock', 26), ('bridegroom', 26), ('clasp', 26), ('hugged', 26), ('tightly', 26), ('naught', 26), ('twain', 26), ('strove', 26), ('rouse', 26), ('him--\"queequeg!\"--but', 26), ('snore', 26), ('collar', 26), ('slight', 26), ('scratch', 26), ('aside', 26), ('hatchet', 26), ('faced', 26), ('pickle', 26), ('queequeg!--in', 26), ('goodness', 26), ('wriggling', 26), ('incessant', 26), ('expostulations', 26), ('unbecomingness', 26), ('male', 26), ('matrimonial', 26), ('style', 26), ('extracting', 26), ('drew', 26), ('shook', 26), ('newfoundland', 26), ('dog', 26), ('pike', 26), ('staff', 26), ('rubbing', 26), ('dawning', 26), ('serious', 26), ('misgivings', 26), ('bent', 26), ('narrowly', 26), ('observing', 52), ('creature', 52), ('touching', 26), ('character', 26), ('reconciled', 26), ('signs', 26), ('dress', 52), ('leave', 26), ('civilized', 78), ('overture', 26), ('savages', 26), ('innate', 26), ('delicacy', 26), ('essentially', 26), ('compliment', 26), ('treated', 26), ('civility', 26), ('consideration', 26), ('guilty', 26), ('rudeness', 26), ('staring', 26), ('watching', 52), ('toilette', 26), ('motions', 26), ('breeding', 26), ('ways', 26), ('worth', 26), ('unusual', 26), ('regarding', 26), ('dressing', 26), ('donning', 26), ('minus', 26), ('trowsers', 26), ('hunted', 26), ('movement', 26), ('crush', 26), ('sundry', 26), ('gaspings', 26), ('strainings', 26), ('work', 26), ('booting', 26), ('law', 26), ('propriety', 26), ('required', 26), ('neither', 26), ('caterpillar', 26), ('butterfly', 26), ('show', 26), ('outlandishness', 26), ('strangest', 26), ('manners', 26), ('education', 26), ('completed', 26), ('undergraduate', 26), ('probably', 52), ('dreamt', 26), ('emerged', 26), ('dented', 26), ('crushed', 26), ('limping', 26), ('accustomed', 26), ('pair', 26), ('cowhide', 26), ('pinched', 26), ('curtains', 26), ('commanded', 26), ('indecorous', 26), ('staving', 26), ('begged', 26), ('accelerate', 26), ('toilet', 52), ('proceeded', 26), ('amazement', 26), ('contented', 26), ('restricting', 26), ('ablutions', 26), ('donned', 26), ('waistcoat', 26), ('piece', 26), ('soap', 26), ('dipped', 26), ('lathering', 26), ('razor', 26), ('lo', 26), ('behold', 26), ('slips', 26), ('stock', 26), ('unsheathes', 26), ('whets', 26), ('boot', 26), ('striding', 26), ('mirror', 26), ('begins', 26), ('vigorous', 26), ('scraping', 26), ('harpooning', 26), ('using', 26), ('rogers', 26), ('cutlery', 26), ('vengeance', 26), ('operation', 26), ('steel', 26), ('exceedingly', 26), ('achieved', 25), ('proudly', 22), ('marched', 21), ('pilot', 11), ('sporting', 7), ('marshal', 2)])\n"
          ]
        }
      ]
    },
    {
      "cell_type": "code",
      "source": [
        "len(tok.word_counts)"
      ],
      "metadata": {
        "colab": {
          "base_uri": "https://localhost:8080/"
        },
        "id": "_ZFBM7hEW98D",
        "outputId": "9e2058de-c9ba-4b06-ac4f-db6726390fc8"
      },
      "execution_count": 102,
      "outputs": [
        {
          "output_type": "execute_result",
          "data": {
            "text/plain": [
              "2721"
            ]
          },
          "metadata": {},
          "execution_count": 102
        }
      ]
    },
    {
      "cell_type": "code",
      "source": [
        "import numpy as np\n",
        "\n",
        "sequences = np.array(sequences)\n",
        "sequences"
      ],
      "metadata": {
        "colab": {
          "base_uri": "https://localhost:8080/"
        },
        "id": "2qxVmJDiXFfT",
        "outputId": "4afa5fb7-aa65-49f2-e722-6b11bae0f1ef"
      },
      "execution_count": 103,
      "outputs": [
        {
          "output_type": "execute_result",
          "data": {
            "text/plain": [
              "array([[ 959,   15,  265, ...,  261,    6,  960],\n",
              "       [  15,  265,   53, ...,    6,  960,   15],\n",
              "       [ 265,   53,  263, ...,  960,   15,   26],\n",
              "       ...,\n",
              "       [ 955,   13,  168, ...,  264,   55,    2],\n",
              "       [  13,  168, 2716, ...,   55,    2, 2721],\n",
              "       [ 168, 2716,    3, ...,    2, 2721,   28]])"
            ]
          },
          "metadata": {},
          "execution_count": 103
        }
      ]
    },
    {
      "cell_type": "code",
      "source": [
        "from keras.utils import to_categorical"
      ],
      "metadata": {
        "id": "iWBEdoMeXZQR"
      },
      "execution_count": 104,
      "outputs": []
    },
    {
      "cell_type": "code",
      "source": [
        "x = sequences[:,:-1]\n",
        "y = sequences[:, -1]\n",
        "\n",
        "y = to_categorical(y)"
      ],
      "metadata": {
        "id": "TVwG_Jseu69A"
      },
      "execution_count": 105,
      "outputs": []
    },
    {
      "cell_type": "code",
      "source": [
        "x.shape"
      ],
      "metadata": {
        "colab": {
          "base_uri": "https://localhost:8080/"
        },
        "id": "5Sg978eCvH4w",
        "outputId": "b917e32f-9b0a-4a98-a05b-cb4242c0a6c0"
      },
      "execution_count": 106,
      "outputs": [
        {
          "output_type": "execute_result",
          "data": {
            "text/plain": [
              "(11545, 25)"
            ]
          },
          "metadata": {},
          "execution_count": 106
        }
      ]
    },
    {
      "cell_type": "code",
      "source": [
        "from keras.models import Sequential\n",
        "from keras.layers import Dense, LSTM, Embedding, InputLayer, GlobalAveragePooling3D"
      ],
      "metadata": {
        "id": "9wuBGJw2vMVx"
      },
      "execution_count": 107,
      "outputs": []
    },
    {
      "cell_type": "code",
      "source": [
        "def create_model(voacabulary_size, seq_len):\n",
        "\n",
        "  model = Sequential()\n",
        "  model.add(InputLayer(shape=(seq_len, )),)\n",
        "  model.add(Embedding(input_dim=voacabulary_size, output_dim=seq_len))\n",
        "  model.add(LSTM(50, return_sequences=True))\n",
        "  model.add(LSTM(50))\n",
        "  model.add(Dense(50, activation='relu'))\n",
        "\n",
        "  model.add(Dense(vocabulary_size, activation='softmax'))\n",
        "\n",
        "  model.compile(loss='categorical_crossentropy', optimizer='adam', metrics=['accuracy'])\n",
        "\n",
        "  return model"
      ],
      "metadata": {
        "id": "wmB9fZFVve8V"
      },
      "execution_count": 108,
      "outputs": []
    },
    {
      "cell_type": "code",
      "source": [
        "vocabulary_size = len(tok.word_counts)\n",
        "seq_len = 25\n",
        "\n",
        "model = create_simple_model(vocabulary_size = vocabulary_size + 1, seq_len=seq_len)\n",
        "model.summary()"
      ],
      "metadata": {
        "colab": {
          "base_uri": "https://localhost:8080/",
          "height": 265
        },
        "id": "6MH4Uwi9xB8G",
        "outputId": "9a2d6a86-ecb2-4312-f90d-ae5eab4ace8b"
      },
      "execution_count": 109,
      "outputs": [
        {
          "output_type": "display_data",
          "data": {
            "text/plain": [
              "\u001b[1mModel: \"sequential_3\"\u001b[0m\n"
            ],
            "text/html": [
              "<pre style=\"white-space:pre;overflow-x:auto;line-height:normal;font-family:Menlo,'DejaVu Sans Mono',consolas,'Courier New',monospace\"><span style=\"font-weight: bold\">Model: \"sequential_3\"</span>\n",
              "</pre>\n"
            ]
          },
          "metadata": {}
        },
        {
          "output_type": "display_data",
          "data": {
            "text/plain": [
              "┏━━━━━━━━━━━━━━━━━━━━━━━━━━━━━━━━━━━━━━┳━━━━━━━━━━━━━━━━━━━━━━━━━━━━━┳━━━━━━━━━━━━━━━━━┓\n",
              "┃\u001b[1m \u001b[0m\u001b[1mLayer (type)                        \u001b[0m\u001b[1m \u001b[0m┃\u001b[1m \u001b[0m\u001b[1mOutput Shape               \u001b[0m\u001b[1m \u001b[0m┃\u001b[1m \u001b[0m\u001b[1m        Param #\u001b[0m\u001b[1m \u001b[0m┃\n",
              "┡━━━━━━━━━━━━━━━━━━━━━━━━━━━━━━━━━━━━━━╇━━━━━━━━━━━━━━━━━━━━━━━━━━━━━╇━━━━━━━━━━━━━━━━━┩\n",
              "│ embedding_3 (\u001b[38;5;33mEmbedding\u001b[0m)              │ (\u001b[38;5;45mNone\u001b[0m, \u001b[38;5;34m25\u001b[0m, \u001b[38;5;34m20\u001b[0m)              │          \u001b[38;5;34m54,440\u001b[0m │\n",
              "├──────────────────────────────────────┼─────────────────────────────┼─────────────────┤\n",
              "│ lstm_3 (\u001b[38;5;33mLSTM\u001b[0m)                        │ (\u001b[38;5;45mNone\u001b[0m, \u001b[38;5;34m20\u001b[0m)                  │           \u001b[38;5;34m3,280\u001b[0m │\n",
              "├──────────────────────────────────────┼─────────────────────────────┼─────────────────┤\n",
              "│ dense_6 (\u001b[38;5;33mDense\u001b[0m)                      │ (\u001b[38;5;45mNone\u001b[0m, \u001b[38;5;34m20\u001b[0m)                  │             \u001b[38;5;34m420\u001b[0m │\n",
              "├──────────────────────────────────────┼─────────────────────────────┼─────────────────┤\n",
              "│ dense_7 (\u001b[38;5;33mDense\u001b[0m)                      │ (\u001b[38;5;45mNone\u001b[0m, \u001b[38;5;34m2722\u001b[0m)                │          \u001b[38;5;34m57,162\u001b[0m │\n",
              "└──────────────────────────────────────┴─────────────────────────────┴─────────────────┘\n"
            ],
            "text/html": [
              "<pre style=\"white-space:pre;overflow-x:auto;line-height:normal;font-family:Menlo,'DejaVu Sans Mono',consolas,'Courier New',monospace\">┏━━━━━━━━━━━━━━━━━━━━━━━━━━━━━━━━━━━━━━┳━━━━━━━━━━━━━━━━━━━━━━━━━━━━━┳━━━━━━━━━━━━━━━━━┓\n",
              "┃<span style=\"font-weight: bold\"> Layer (type)                         </span>┃<span style=\"font-weight: bold\"> Output Shape                </span>┃<span style=\"font-weight: bold\">         Param # </span>┃\n",
              "┡━━━━━━━━━━━━━━━━━━━━━━━━━━━━━━━━━━━━━━╇━━━━━━━━━━━━━━━━━━━━━━━━━━━━━╇━━━━━━━━━━━━━━━━━┩\n",
              "│ embedding_3 (<span style=\"color: #0087ff; text-decoration-color: #0087ff\">Embedding</span>)              │ (<span style=\"color: #00d7ff; text-decoration-color: #00d7ff\">None</span>, <span style=\"color: #00af00; text-decoration-color: #00af00\">25</span>, <span style=\"color: #00af00; text-decoration-color: #00af00\">20</span>)              │          <span style=\"color: #00af00; text-decoration-color: #00af00\">54,440</span> │\n",
              "├──────────────────────────────────────┼─────────────────────────────┼─────────────────┤\n",
              "│ lstm_3 (<span style=\"color: #0087ff; text-decoration-color: #0087ff\">LSTM</span>)                        │ (<span style=\"color: #00d7ff; text-decoration-color: #00d7ff\">None</span>, <span style=\"color: #00af00; text-decoration-color: #00af00\">20</span>)                  │           <span style=\"color: #00af00; text-decoration-color: #00af00\">3,280</span> │\n",
              "├──────────────────────────────────────┼─────────────────────────────┼─────────────────┤\n",
              "│ dense_6 (<span style=\"color: #0087ff; text-decoration-color: #0087ff\">Dense</span>)                      │ (<span style=\"color: #00d7ff; text-decoration-color: #00d7ff\">None</span>, <span style=\"color: #00af00; text-decoration-color: #00af00\">20</span>)                  │             <span style=\"color: #00af00; text-decoration-color: #00af00\">420</span> │\n",
              "├──────────────────────────────────────┼─────────────────────────────┼─────────────────┤\n",
              "│ dense_7 (<span style=\"color: #0087ff; text-decoration-color: #0087ff\">Dense</span>)                      │ (<span style=\"color: #00d7ff; text-decoration-color: #00d7ff\">None</span>, <span style=\"color: #00af00; text-decoration-color: #00af00\">2722</span>)                │          <span style=\"color: #00af00; text-decoration-color: #00af00\">57,162</span> │\n",
              "└──────────────────────────────────────┴─────────────────────────────┴─────────────────┘\n",
              "</pre>\n"
            ]
          },
          "metadata": {}
        },
        {
          "output_type": "display_data",
          "data": {
            "text/plain": [
              "\u001b[1m Total params: \u001b[0m\u001b[38;5;34m115,302\u001b[0m (450.40 KB)\n"
            ],
            "text/html": [
              "<pre style=\"white-space:pre;overflow-x:auto;line-height:normal;font-family:Menlo,'DejaVu Sans Mono',consolas,'Courier New',monospace\"><span style=\"font-weight: bold\"> Total params: </span><span style=\"color: #00af00; text-decoration-color: #00af00\">115,302</span> (450.40 KB)\n",
              "</pre>\n"
            ]
          },
          "metadata": {}
        },
        {
          "output_type": "display_data",
          "data": {
            "text/plain": [
              "\u001b[1m Trainable params: \u001b[0m\u001b[38;5;34m115,302\u001b[0m (450.40 KB)\n"
            ],
            "text/html": [
              "<pre style=\"white-space:pre;overflow-x:auto;line-height:normal;font-family:Menlo,'DejaVu Sans Mono',consolas,'Courier New',monospace\"><span style=\"font-weight: bold\"> Trainable params: </span><span style=\"color: #00af00; text-decoration-color: #00af00\">115,302</span> (450.40 KB)\n",
              "</pre>\n"
            ]
          },
          "metadata": {}
        },
        {
          "output_type": "display_data",
          "data": {
            "text/plain": [
              "\u001b[1m Non-trainable params: \u001b[0m\u001b[38;5;34m0\u001b[0m (0.00 B)\n"
            ],
            "text/html": [
              "<pre style=\"white-space:pre;overflow-x:auto;line-height:normal;font-family:Menlo,'DejaVu Sans Mono',consolas,'Courier New',monospace\"><span style=\"font-weight: bold\"> Non-trainable params: </span><span style=\"color: #00af00; text-decoration-color: #00af00\">0</span> (0.00 B)\n",
              "</pre>\n"
            ]
          },
          "metadata": {}
        }
      ]
    },
    {
      "cell_type": "code",
      "source": [
        "from pickle import dump, load"
      ],
      "metadata": {
        "id": "Z1or_cMBxps7"
      },
      "execution_count": 110,
      "outputs": []
    },
    {
      "cell_type": "code",
      "source": [
        "model.fit(x, y, batch_size=20, epochs=20, verbose=1)"
      ],
      "metadata": {
        "colab": {
          "base_uri": "https://localhost:8080/"
        },
        "id": "ctz1mXOp1Ybs",
        "outputId": "c3f015f0-22d6-407c-912f-7244fd77913c"
      },
      "execution_count": 111,
      "outputs": [
        {
          "output_type": "stream",
          "name": "stdout",
          "text": [
            "Epoch 1/20\n",
            "\u001b[1m578/578\u001b[0m \u001b[32m━━━━━━━━━━━━━━━━━━━━\u001b[0m\u001b[37m\u001b[0m \u001b[1m5s\u001b[0m 6ms/step - accuracy: 0.0390 - loss: 7.0344\n",
            "Epoch 2/20\n",
            "\u001b[1m578/578\u001b[0m \u001b[32m━━━━━━━━━━━━━━━━━━━━\u001b[0m\u001b[37m\u001b[0m \u001b[1m5s\u001b[0m 6ms/step - accuracy: 0.0522 - loss: 6.2621\n",
            "Epoch 3/20\n",
            "\u001b[1m578/578\u001b[0m \u001b[32m━━━━━━━━━━━━━━━━━━━━\u001b[0m\u001b[37m\u001b[0m \u001b[1m5s\u001b[0m 6ms/step - accuracy: 0.0518 - loss: 6.1572\n",
            "Epoch 4/20\n",
            "\u001b[1m578/578\u001b[0m \u001b[32m━━━━━━━━━━━━━━━━━━━━\u001b[0m\u001b[37m\u001b[0m \u001b[1m4s\u001b[0m 7ms/step - accuracy: 0.0508 - loss: 6.0061\n",
            "Epoch 5/20\n",
            "\u001b[1m578/578\u001b[0m \u001b[32m━━━━━━━━━━━━━━━━━━━━\u001b[0m\u001b[37m\u001b[0m \u001b[1m4s\u001b[0m 5ms/step - accuracy: 0.0589 - loss: 5.9062\n",
            "Epoch 6/20\n",
            "\u001b[1m578/578\u001b[0m \u001b[32m━━━━━━━━━━━━━━━━━━━━\u001b[0m\u001b[37m\u001b[0m \u001b[1m3s\u001b[0m 6ms/step - accuracy: 0.0661 - loss: 5.7677\n",
            "Epoch 7/20\n",
            "\u001b[1m578/578\u001b[0m \u001b[32m━━━━━━━━━━━━━━━━━━━━\u001b[0m\u001b[37m\u001b[0m \u001b[1m6s\u001b[0m 7ms/step - accuracy: 0.0705 - loss: 5.6471\n",
            "Epoch 8/20\n",
            "\u001b[1m578/578\u001b[0m \u001b[32m━━━━━━━━━━━━━━━━━━━━\u001b[0m\u001b[37m\u001b[0m \u001b[1m4s\u001b[0m 5ms/step - accuracy: 0.0686 - loss: 5.5408\n",
            "Epoch 9/20\n",
            "\u001b[1m578/578\u001b[0m \u001b[32m━━━━━━━━━━━━━━━━━━━━\u001b[0m\u001b[37m\u001b[0m \u001b[1m6s\u001b[0m 6ms/step - accuracy: 0.0718 - loss: 5.4755\n",
            "Epoch 10/20\n",
            "\u001b[1m578/578\u001b[0m \u001b[32m━━━━━━━━━━━━━━━━━━━━\u001b[0m\u001b[37m\u001b[0m \u001b[1m5s\u001b[0m 6ms/step - accuracy: 0.0767 - loss: 5.3807\n",
            "Epoch 11/20\n",
            "\u001b[1m578/578\u001b[0m \u001b[32m━━━━━━━━━━━━━━━━━━━━\u001b[0m\u001b[37m\u001b[0m \u001b[1m3s\u001b[0m 5ms/step - accuracy: 0.0801 - loss: 5.3462\n",
            "Epoch 12/20\n",
            "\u001b[1m578/578\u001b[0m \u001b[32m━━━━━━━━━━━━━━━━━━━━\u001b[0m\u001b[37m\u001b[0m \u001b[1m6s\u001b[0m 7ms/step - accuracy: 0.0874 - loss: 5.2675\n",
            "Epoch 13/20\n",
            "\u001b[1m578/578\u001b[0m \u001b[32m━━━━━━━━━━━━━━━━━━━━\u001b[0m\u001b[37m\u001b[0m \u001b[1m4s\u001b[0m 5ms/step - accuracy: 0.0877 - loss: 5.1841\n",
            "Epoch 14/20\n",
            "\u001b[1m578/578\u001b[0m \u001b[32m━━━━━━━━━━━━━━━━━━━━\u001b[0m\u001b[37m\u001b[0m \u001b[1m3s\u001b[0m 5ms/step - accuracy: 0.0954 - loss: 5.1126\n",
            "Epoch 15/20\n",
            "\u001b[1m578/578\u001b[0m \u001b[32m━━━━━━━━━━━━━━━━━━━━\u001b[0m\u001b[37m\u001b[0m \u001b[1m6s\u001b[0m 7ms/step - accuracy: 0.0945 - loss: 5.0320\n",
            "Epoch 16/20\n",
            "\u001b[1m578/578\u001b[0m \u001b[32m━━━━━━━━━━━━━━━━━━━━\u001b[0m\u001b[37m\u001b[0m \u001b[1m4s\u001b[0m 5ms/step - accuracy: 0.1012 - loss: 4.9904\n",
            "Epoch 17/20\n",
            "\u001b[1m578/578\u001b[0m \u001b[32m━━━━━━━━━━━━━━━━━━━━\u001b[0m\u001b[37m\u001b[0m \u001b[1m6s\u001b[0m 7ms/step - accuracy: 0.1029 - loss: 4.8989\n",
            "Epoch 18/20\n",
            "\u001b[1m578/578\u001b[0m \u001b[32m━━━━━━━━━━━━━━━━━━━━\u001b[0m\u001b[37m\u001b[0m \u001b[1m4s\u001b[0m 5ms/step - accuracy: 0.1076 - loss: 4.8532\n",
            "Epoch 19/20\n",
            "\u001b[1m578/578\u001b[0m \u001b[32m━━━━━━━━━━━━━━━━━━━━\u001b[0m\u001b[37m\u001b[0m \u001b[1m5s\u001b[0m 6ms/step - accuracy: 0.1111 - loss: 4.7497\n",
            "Epoch 20/20\n",
            "\u001b[1m578/578\u001b[0m \u001b[32m━━━━━━━━━━━━━━━━━━━━\u001b[0m\u001b[37m\u001b[0m \u001b[1m4s\u001b[0m 7ms/step - accuracy: 0.1150 - loss: 4.6884\n"
          ]
        },
        {
          "output_type": "execute_result",
          "data": {
            "text/plain": [
              "<keras.src.callbacks.history.History at 0x79eae2b38670>"
            ]
          },
          "metadata": {},
          "execution_count": 111
        }
      ]
    },
    {
      "cell_type": "code",
      "source": [
        "y.shape"
      ],
      "metadata": {
        "colab": {
          "base_uri": "https://localhost:8080/"
        },
        "id": "zPSlKlI242x1",
        "outputId": "d8f0612a-ea84-46a7-fbb6-dd91146489ba"
      },
      "execution_count": 112,
      "outputs": [
        {
          "output_type": "execute_result",
          "data": {
            "text/plain": [
              "(11545, 2722)"
            ]
          },
          "metadata": {},
          "execution_count": 112
        }
      ]
    },
    {
      "cell_type": "code",
      "source": [
        "x.shape"
      ],
      "metadata": {
        "colab": {
          "base_uri": "https://localhost:8080/"
        },
        "id": "7ZgpbhC96x2x",
        "outputId": "ce8dac14-dfd5-4998-f082-6589974c3143"
      },
      "execution_count": 113,
      "outputs": [
        {
          "output_type": "execute_result",
          "data": {
            "text/plain": [
              "(11545, 25)"
            ]
          },
          "metadata": {},
          "execution_count": 113
        }
      ]
    },
    {
      "cell_type": "code",
      "source": [
        "vocabulary_size"
      ],
      "metadata": {
        "colab": {
          "base_uri": "https://localhost:8080/"
        },
        "id": "ELhjdAxz8zP0",
        "outputId": "2108519e-32f4-40b9-add3-8f04bcf92ddf"
      },
      "execution_count": 114,
      "outputs": [
        {
          "output_type": "execute_result",
          "data": {
            "text/plain": [
              "2721"
            ]
          },
          "metadata": {},
          "execution_count": 114
        }
      ]
    },
    {
      "cell_type": "code",
      "source": [
        "model.save('text_generation.h5')"
      ],
      "metadata": {
        "colab": {
          "base_uri": "https://localhost:8080/"
        },
        "id": "EpwYycjl843C",
        "outputId": "104fa694-5596-4102-c74f-9f6dae3786e2"
      },
      "execution_count": 115,
      "outputs": [
        {
          "output_type": "stream",
          "name": "stderr",
          "text": [
            "WARNING:absl:You are saving your model as an HDF5 file via `model.save()` or `keras.saving.save_model(model)`. This file format is considered legacy. We recommend using instead the native Keras format, e.g. `model.save('my_model.keras')` or `keras.saving.save_model(model, 'my_model.keras')`. \n"
          ]
        }
      ]
    },
    {
      "cell_type": "code",
      "source": [
        "dump(tok, open('my_simple_tokenizer', 'wb'))"
      ],
      "metadata": {
        "id": "HTIAULn8DF-L"
      },
      "execution_count": 116,
      "outputs": []
    },
    {
      "cell_type": "code",
      "source": [
        "from keras.preprocessing.sequence import pad_sequences\n",
        "\n",
        "def generate_text(model, tokenizer, seq_len, seed_text, num_gen_words):\n",
        "  output_text = []\n",
        "  input_text = seed_text\n",
        "  for i in range(num_gen_words):\n",
        "    encoded_text = tokenizer.texts_to_sequences([input_text])[0]\n",
        "    pad_encoded = pad_sequences([encoded_text], maxlen = seq_len, truncating='pre')\n",
        "\n",
        "    # pred_word_ind = model.predict_classes(pad_encoded, verbose=0)[0]\n",
        "\n",
        "    # pred_word_ind=model.predict(pad_encoded)[0]\n",
        "    pred_word_ind=np.argmax(model.predict(pad_encoded), axis=-1)[0]\n",
        "\n",
        "    pred_word = tokenizer.index_word[pred_word_ind]\n",
        "    input_text += ' ' + pred_word\n",
        "    output_text.append(pred_word)\n",
        "\n",
        "  return ' '.join(output_text)"
      ],
      "metadata": {
        "id": "SMAa7Oq1DSsW"
      },
      "execution_count": 136,
      "outputs": []
    },
    {
      "cell_type": "code",
      "source": [
        "import random\n",
        "random_pick = random.randint(0, len(text_sequences))\n",
        "\n",
        "random_seed_text = text_sequences[random_pick]\n",
        "seed_text = ' '.join(random_seed_text)\n",
        "seed_text"
      ],
      "metadata": {
        "id": "F4P2hFVJFQX_",
        "outputId": "fcb77c87-c075-43a0-b5d9-536242481742",
        "colab": {
          "base_uri": "https://localhost:8080/",
          "height": 53
        }
      },
      "execution_count": 141,
      "outputs": [
        {
          "output_type": "execute_result",
          "data": {
            "text/plain": [
              "'was welcome the great flood gates of the wonder world swung open and in the wild conceits that swayed me to my purpose two and two'"
            ],
            "application/vnd.google.colaboratory.intrinsic+json": {
              "type": "string"
            }
          },
          "metadata": {},
          "execution_count": 141
        }
      ]
    },
    {
      "cell_type": "code",
      "source": [
        "generate_text(model, tok, seq_len, seed_text, 10)"
      ],
      "metadata": {
        "id": "aGOrQ-QIGA2d",
        "outputId": "9dc9a7e0-6355-4b8c-f2d1-356a4bf84cf4",
        "colab": {
          "base_uri": "https://localhost:8080/",
          "height": 214
        }
      },
      "execution_count": 142,
      "outputs": [
        {
          "output_type": "stream",
          "name": "stdout",
          "text": [
            "\u001b[1m1/1\u001b[0m \u001b[32m━━━━━━━━━━━━━━━━━━━━\u001b[0m\u001b[37m\u001b[0m \u001b[1m0s\u001b[0m 17ms/step\n",
            "\u001b[1m1/1\u001b[0m \u001b[32m━━━━━━━━━━━━━━━━━━━━\u001b[0m\u001b[37m\u001b[0m \u001b[1m0s\u001b[0m 16ms/step\n",
            "\u001b[1m1/1\u001b[0m \u001b[32m━━━━━━━━━━━━━━━━━━━━\u001b[0m\u001b[37m\u001b[0m \u001b[1m0s\u001b[0m 15ms/step\n",
            "\u001b[1m1/1\u001b[0m \u001b[32m━━━━━━━━━━━━━━━━━━━━\u001b[0m\u001b[37m\u001b[0m \u001b[1m0s\u001b[0m 20ms/step\n",
            "\u001b[1m1/1\u001b[0m \u001b[32m━━━━━━━━━━━━━━━━━━━━\u001b[0m\u001b[37m\u001b[0m \u001b[1m0s\u001b[0m 15ms/step\n",
            "\u001b[1m1/1\u001b[0m \u001b[32m━━━━━━━━━━━━━━━━━━━━\u001b[0m\u001b[37m\u001b[0m \u001b[1m0s\u001b[0m 16ms/step\n",
            "\u001b[1m1/1\u001b[0m \u001b[32m━━━━━━━━━━━━━━━━━━━━\u001b[0m\u001b[37m\u001b[0m \u001b[1m0s\u001b[0m 16ms/step\n",
            "\u001b[1m1/1\u001b[0m \u001b[32m━━━━━━━━━━━━━━━━━━━━\u001b[0m\u001b[37m\u001b[0m \u001b[1m0s\u001b[0m 21ms/step\n",
            "\u001b[1m1/1\u001b[0m \u001b[32m━━━━━━━━━━━━━━━━━━━━\u001b[0m\u001b[37m\u001b[0m \u001b[1m0s\u001b[0m 26ms/step\n",
            "\u001b[1m1/1\u001b[0m \u001b[32m━━━━━━━━━━━━━━━━━━━━\u001b[0m\u001b[37m\u001b[0m \u001b[1m0s\u001b[0m 17ms/step\n"
          ]
        },
        {
          "output_type": "execute_result",
          "data": {
            "text/plain": [
              "'and one and be and be and be -- --'"
            ],
            "application/vnd.google.colaboratory.intrinsic+json": {
              "type": "string"
            }
          },
          "metadata": {},
          "execution_count": 142
        }
      ]
    },
    {
      "cell_type": "code",
      "source": [],
      "metadata": {
        "id": "WG-QxSMmG2fU"
      },
      "execution_count": null,
      "outputs": []
    }
  ]
}