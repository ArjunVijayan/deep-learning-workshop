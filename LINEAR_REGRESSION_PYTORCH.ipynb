{
  "nbformat": 4,
  "nbformat_minor": 0,
  "metadata": {
    "colab": {
      "provenance": [],
      "gpuType": "T4"
    },
    "kernelspec": {
      "name": "python3",
      "display_name": "Python 3"
    },
    "language_info": {
      "name": "python"
    },
    "accelerator": "GPU"
  },
  "cells": [
    {
      "cell_type": "code",
      "execution_count": 16,
      "metadata": {
        "id": "O2p36sZxAkDz"
      },
      "outputs": [],
      "source": [
        "import torch"
      ]
    },
    {
      "cell_type": "code",
      "source": [
        "# initialising weights and variables\n",
        "# f(x) = 2(x)\n",
        "\n",
        "x = torch.tensor([1,2,3,4,5,6,7,8,9,10])\n",
        "y = torch.tensor([1,4,6,8,10, 12, 14, 16, 18, 20])\n",
        "\n",
        "w = torch.tensor(0.0, requires_grad=True)"
      ],
      "metadata": {
        "id": "SYhx1-IQAvpQ"
      },
      "execution_count": 17,
      "outputs": []
    },
    {
      "cell_type": "code",
      "source": [
        "# forward propogation\n",
        "def forward(x):\n",
        "  return w*x\n",
        "\n",
        "# loss function - MSE\n",
        "def loss(y, y_pred):\n",
        "  return ((y_pred - y)**2).mean()"
      ],
      "metadata": {
        "id": "NSN-gMPBBLwA"
      },
      "execution_count": 18,
      "outputs": []
    },
    {
      "cell_type": "code",
      "source": [
        "# Training the model\n",
        "learning_rate = 0.001\n",
        "n_epochs = 100\n",
        "\n",
        "for epoch in range(n_epochs):\n",
        "\n",
        "  y_pred = forward(x) # forward pass\n",
        "\n",
        "  l = loss(y, y_pred) # loss function\n",
        "\n",
        "  l.backward() # back propogation dl/dw\n",
        "\n",
        "  # updating weights\n",
        "  with torch.no_grad():\n",
        "    w -= learning_rate*w.grad\n",
        "\n",
        "  w.grad.zero_()\n",
        "\n",
        "  if epoch % 10 == 0:\n",
        "    print(f'epoch {epoch+1}: w = {w.item():.3f}, loss = {l.item():.8f}')"
      ],
      "metadata": {
        "colab": {
          "base_uri": "https://localhost:8080/"
        },
        "id": "urqDzm_vBgVX",
        "outputId": "70ee15e7-8627-4741-8560-cc7faa022fed"
      },
      "execution_count": 19,
      "outputs": [
        {
          "output_type": "stream",
          "name": "stdout",
          "text": [
            "epoch 1: w = 0.154, loss = 153.69999695\n",
            "epoch 11: w = 1.170, loss = 31.03302002\n",
            "epoch 21: w = 1.626, loss = 6.32933426\n",
            "epoch 31: w = 1.831, loss = 1.35430622\n",
            "epoch 41: w = 1.923, loss = 0.35239449\n",
            "epoch 51: w = 1.964, loss = 0.15062176\n",
            "epoch 61: w = 1.982, loss = 0.10998714\n",
            "epoch 71: w = 1.991, loss = 0.10180388\n",
            "epoch 81: w = 1.994, loss = 0.10015585\n",
            "epoch 91: w = 1.996, loss = 0.09982394\n"
          ]
        }
      ]
    },
    {
      "cell_type": "code",
      "source": [
        "x_test = 100\n",
        "forward(x_test).item()"
      ],
      "metadata": {
        "colab": {
          "base_uri": "https://localhost:8080/"
        },
        "id": "4-EjC6cxB9O4",
        "outputId": "1f12e9e0-3f6c-4a8a-817d-566b105c538d"
      },
      "execution_count": 20,
      "outputs": [
        {
          "output_type": "execute_result",
          "data": {
            "text/plain": [
              "199.67408752441406"
            ]
          },
          "metadata": {},
          "execution_count": 20
        }
      ]
    },
    {
      "cell_type": "code",
      "source": [],
      "metadata": {
        "id": "KhYdUjP5CGpe"
      },
      "execution_count": 20,
      "outputs": []
    }
  ]
}